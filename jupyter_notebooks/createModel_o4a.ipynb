{
 "cells": [
  {
   "cell_type": "markdown",
   "id": "f5ff43d5",
   "metadata": {},
   "source": [
    "# SPARCED Model Creation (Integrated-SBML)\n",
    "\n",
    "This file transforms the input files into Antimony and SBML model files. Here, we do not execute any simulation. "
   ]
  },
  {
   "cell_type": "markdown",
   "id": "3243e52a",
   "metadata": {},
   "source": [
    "**These are the \"default\" input file names**   \n",
    "They are structured, tab-separated text files, located in the \"input files\" folder by default."
   ]
  },
  {
   "cell_type": "code",
   "execution_count": 1,
   "id": "396cbf36",
   "metadata": {},
   "outputs": [],
   "source": [
    "# Input file name definitions\n",
    "fnameInput = 'SPARCEDo4a_v1' # model file name = USER input\n",
    "\n",
    "fileComps = 'Compartments.txt' # input\n",
    "fileSpecies = 'Species.txt' # input\n",
    "fileStoic = 'StoicMat.txt' # input\n",
    "fileRatelaws = 'Ratelaws.txt' # input\n",
    "fileOmicsdata = 'OmicsData.txt' # input\n",
    "fileGeneReg = 'GeneReg.txt' # input\n",
    "fileObservables = 'Observables.txt' # input\n",
    "fileParamsOut = 'ParamsAll_v1.txt' # output: Lists all parameter names, rxn names, values"
   ]
  },
  {
   "cell_type": "markdown",
   "id": "ceb0c0e1",
   "metadata": {},
   "source": [
    "### Import required packages and scripts"
   ]
  },
  {
   "cell_type": "code",
   "execution_count": 2,
   "id": "49ccb014",
   "metadata": {},
   "outputs": [],
   "source": [
    "import sys\n",
    "import os\n",
    "import pandas as pd\n",
    "\n",
    "cd = os.getcwd()\n",
    "wd = os.path.dirname(cd)\n",
    "input_path = os.path.join(wd,'input_files')\n",
    "sys.path.append(os.path.join(wd,'bin'))\n",
    "\n",
    "import libsbml\n",
    "import importlib\n",
    "import amici\n",
    "import numpy as np\n",
    "import re\n",
    "import pandas as pd\n",
    "from antimony import *\n",
    "\n",
    "\n",
    "# Optional packages to import\n",
    "import amici.plotting\n",
    "import matplotlib.pyplot as plt"
   ]
  },
  {
   "cell_type": "markdown",
   "id": "ffb97536",
   "metadata": {},
   "source": [
    "### Define the model file and SBML file name here\n",
    "\n",
    "First, the Antimony model file will be created using the input files. Users can add information per the antimony file structure. A default explanation for the SPARCED model is inserted here.\n",
    "Then the SBML file will be created using the Antimony file. Its name can also be defined here. \n",
    "For consistency, we use the same name for the Antimony file, SBML file, and the model name."
   ]
  },
  {
   "cell_type": "code",
   "execution_count": 3,
   "id": "338ee785",
   "metadata": {},
   "outputs": [],
   "source": [
    "\n",
    "\n",
    "fileModel = open(os.path.join(cd,fnameInput+'.txt'),'w') \n",
    "fileModel.write(\"# PanCancer Model by Birtwistle Lab \\n\") # some explanation\n",
    "fileModel.write(\"model \"+fnameInput+\"()\\n\") # model name\n",
    "\n",
    "\n",
    "# SBML file name\n",
    "sbml_file = fnameInput+'.xml'\n",
    "# Name of the model that will also be the name of the python module\n",
    "model_name = sbml_file[0:-4] \n",
    "# Directory to which the generated model code is written\n",
    "model_output_dir = model_name \n",
    "# The AMICI package will create this folder while compiling the model, refer to AMICI github page for more details"
   ]
  },
  {
   "cell_type": "markdown",
   "id": "04a47eb5",
   "metadata": {},
   "source": [
    "## Input file processing\n",
    "\n",
    "Below are steps of input file processing and writing the Antimony file."
   ]
  },
  {
   "cell_type": "markdown",
   "id": "e384a19c",
   "metadata": {},
   "source": [
    "### First, read-in the \"Compartments\" and \"Volumes\""
   ]
  },
  {
   "cell_type": "code",
   "execution_count": 4,
   "id": "aa095c66",
   "metadata": {},
   "outputs": [
    {
     "data": {
      "text/plain": [
       "1"
      ]
     },
     "execution_count": 4,
     "metadata": {},
     "output_type": "execute_result"
    }
   ],
   "source": [
    "#%%\n",
    "# Initializing compartment and volume lists\n",
    "compartments = []\n",
    "volumes = []\n",
    "\n",
    "# Create/write compartments\n",
    "compartment_sheet = np.array([np.array(line.strip().split(\"\\t\")) for line in open(os.path.join(input_path,fileComps))])\n",
    "\n",
    "#read in each line minus the header row of compartments file\n",
    "for row in compartment_sheet[1:]:\n",
    "    compartments.append(row[0])\n",
    "    volumes.append(row[1])\n",
    "    \n",
    "#\n",
    "\n",
    "fileModel.write(\"\\n  # Compartments and Species:\\n\") # Antimony Compartments/Species module title\n",
    "for idx in range(len(compartments)):\n",
    "    compName = compartments[idx]\n",
    "    fileModel.write(\"  Compartment %s; \" % (compName))\n",
    "fileModel.write(\"\\n\")"
   ]
  },
  {
   "cell_type": "markdown",
   "id": "62bbf757",
   "metadata": {},
   "source": [
    "### Second, read-in the \"Species\" and related information\n"
   ]
  },
  {
   "cell_type": "code",
   "execution_count": 5,
   "id": "bb5f6c1e",
   "metadata": {},
   "outputs": [],
   "source": [
    "model_genes = list(pd.read_csv(os.path.join(input_path,fileOmicsdata),sep='\\t',index_col=0,header=0).index)\n",
    "sp_input = pd.read_csv(os.path.join(input_path,fileSpecies),sep='\\t',index_col=None,header=None)\n",
    "sp_mrna = ['m_'+str(m) for m in model_genes]\n",
    "\n",
    "sp_input = sp_input.loc[~np.isin(sp_input.iloc[:,0],sp_mrna),:]\n",
    "species_sheet = [np.array(sp_input.iloc[s,~sp_input.iloc[s,:].isnull().values]).astype(str) for s in range(np.shape(sp_input)[0])]\n",
    "\n",
    "#%%# Write species and assign compartments\n",
    "\n",
    "#read in each line minus the header row of species file\n",
    "species_compartments = [] # Create a list of \"home\" compartments for each species in the model\n",
    "for row in species_sheet[1:]:\n",
    "    species_compartments.append(row[1]) \n",
    "species_compartments = np.array(species_compartments)\n",
    "\n",
    "#Write each species to model txt file\n",
    "fileModel.write(\"\\n\")\n",
    "for idx,val in enumerate(species_sheet[1:]):\n",
    "    fileModel.write(\"  Species \")\n",
    "    fileModel.write(\"%s in %s\" % (val[0], species_compartments[idx]))\n",
    "    fileModel.write(\";\\n\")\n",
    "    \n",
    "\n",
    "\n",
    "omicsRead = pd.read_csv(os.path.join(input_path,fileOmicsdata),header=0,index_col=0,sep=\"\\t\")\n",
    "gExp_mpc = np.float64(omicsRead.values[:,0])\n",
    "mExp_mpc = np.float64(omicsRead.values[:,1])\n",
    "kGin = np.float64(omicsRead.values[:,2])\n",
    "kGac = np.float64(omicsRead.values[:,3])\n",
    "kTCleak = np.float64(omicsRead.values[:,4])\n",
    "kTCmaxs = np.float64(omicsRead.values[:,5])\n",
    "kTCd = np.float64(omicsRead.values[:,6])\n",
    "gnames = list(omicsRead.index.values)\n",
    "ac_genenames = ['ag_' + x for x in gnames]\n",
    "ia_genenames = ['ig_' + x for x in gnames]\n",
    "mRNAnames = ['m_' + x for x in gnames]\n",
    "\n",
    "Vn = np.double(compartment_sheet[3,1])\n",
    "Vc = np.double(compartment_sheet[1,1])\n",
    "mpc2nMVc = (1E9/(Vc*6.023E+23))\n",
    "\n",
    "\n",
    "genesComp = np.array(omicsRead.values[:,12])\n",
    "# CC mRNA IC exceptions:\n",
    "\n",
    "\n",
    "cc_mrna = pd.read_csv(os.path.join(input_path,'Initializer.txt'),sep='\\t',squeeze=True,usecols=['Step1_mrna','Step1_mrna_mpc'],index_col='Step1_mrna')\n",
    "cc_mrna = cc_mrna[cc_mrna.index.notnull()]\n",
    "\n",
    "for c in range(len(cc_mrna)):\n",
    "    cmrna_sp = 'm_'+str(cc_mrna.index[c])\n",
    "    mExp_mpc[list(mRNAnames).index(cmrna_sp)] = cc_mrna[c]\n",
    "\n",
    "##\n",
    "\n",
    "for idx, val in enumerate(ac_genenames):\n",
    "    fileModel.write(\"  Species \")\n",
    "    fileModel.write(\"%s in %s\" % (val, genesComp[idx]))\n",
    "    fileModel.write(\";\\n\")\n",
    "for idx, val in enumerate(ia_genenames):\n",
    "    fileModel.write(\"  Species \")\n",
    "    fileModel.write(\"%s in %s\" % (val, genesComp[idx]))\n",
    "    fileModel.write(\";\\n\")\n",
    "for idx, val in enumerate(mRNAnames):\n",
    "    fileModel.write(\"  Species \")\n",
    "    fileModel.write(\"%s in %s\" % (val, genesComp[idx]))\n",
    "    fileModel.write(\";\\n\")\n"
   ]
  },
  {
   "cell_type": "markdown",
   "id": "39d08886",
   "metadata": {},
   "source": [
    "### Read-in the \"Reactions\" and \"StoicMat\" files to create reactions of the model"
   ]
  },
  {
   "cell_type": "code",
   "execution_count": 6,
   "id": "a046f0bb",
   "metadata": {},
   "outputs": [],
   "source": [
    "# Write reactions\n",
    "fileModel.write(\"\\n\\n  # Reactions:\\n\") # Antimony Reactions module title\n",
    "\n",
    "#%% Create the reations of the model based on the stoichiometric input and (if available) ratelaw input\n",
    "stm_input = pd.read_csv(os.path.join(input_path,fileStoic),sep='\\t',index_col=None,header=None)\n",
    "stm_input = stm_input.iloc[~np.isin(stm_input.iloc[:,0],sp_mrna),:]\n",
    "\n",
    "stoic_sheet = [np.array(stm_input.iloc[s,~stm_input.iloc[s,:].isnull().values]).astype(str) for s in range(np.shape(stm_input)[0])]\n",
    "\n",
    "\n",
    "#creates associated ratelaw data list\n",
    "ratelaw_sheet = np.array([np.array(line.strip().split(\"\\t\")) for line in open(os.path.join(input_path,fileRatelaws))])\n",
    "ratelaw_data = np.array([line[1:] for line in ratelaw_sheet[1:]])\n",
    "\n",
    "#gets first column minus blank space at the beginning, adds to stoic data list\n",
    "stoic_columnnames = stoic_sheet[0]\n",
    "stoic_rownames = [line[0] for line in stoic_sheet[1:]]\n",
    "stoic_data = np.array([line[1:] for line in stoic_sheet[1:]])"
   ]
  },
  {
   "cell_type": "markdown",
   "id": "e0704694",
   "metadata": {},
   "source": [
    "#### Create the reations of the model based on the stoichiometric input and (if available) ratelaw input"
   ]
  },
  {
   "cell_type": "code",
   "execution_count": 7,
   "id": "a45c5a95",
   "metadata": {},
   "outputs": [],
   "source": [
    "# builds the important ratelaw+stoic lines into the txt file \n",
    "paramnames = []\n",
    "paramvals = []\n",
    "paramrxns = []\n",
    "paramidxs = []\n",
    "for rowNum, ratelaw in enumerate(ratelaw_data):\n",
    "    reactants = []\n",
    "    products = []\n",
    "    formula = \"k\"+str(rowNum+1)+\"*\"\n",
    "\n",
    "    for i, stoic_rowname in enumerate(stoic_rownames):\n",
    "        stoic_value = int(stoic_data[i][rowNum])\n",
    "        if stoic_value < 0:\n",
    "            for j in range(0,stoic_value*-1):\n",
    "                reactants.append(stoic_rowname)\n",
    "                formula=formula+stoic_rowname+\"*\"\n",
    "        elif stoic_value > 0:\n",
    "            for j in range(0,stoic_value):\n",
    "                products.append(stoic_rowname)\n",
    "\n",
    "    if \"k\" not in ratelaw[1]:\n",
    "        # the mass-action formula\n",
    "        formula = formula[:-1]\n",
    "        #the parameter\n",
    "        paramnames.append(\"k\"+str(rowNum+1))\n",
    "        paramvals.append(np.double(ratelaw[1]))\n",
    "        paramrxns.append(ratelaw_sheet[rowNum+1][0])\n",
    "        paramidxs.append(int(0))\n",
    "    else:\n",
    "        # specific formula (non-mass-action)\n",
    "        formula = ratelaw[1]\n",
    "        j = 1\n",
    "        params = np.genfromtxt(ratelaw[2:], float) # parameters\n",
    "        params = params[~np.isnan(params)]\n",
    "        if len(params) == 1:\n",
    "            paramnames.append(\"k\"+str(rowNum+1)+\"_\"+str(j))\n",
    "            paramvals.append(float(ratelaw[j+1]))\n",
    "            paramrxns.append(ratelaw_sheet[rowNum+1][0])\n",
    "            paramidxs.append(int(0))\n",
    "            pattern = 'k\\D*\\d*'\n",
    "            compiled = re.compile(pattern)\n",
    "            matches = compiled.finditer(formula)\n",
    "            for ematch in matches:\n",
    "                formula = formula.replace(ematch.group(),paramnames[-1])\n",
    "        else:\n",
    "            for q,p in enumerate(params):\n",
    "                paramnames.append(\"k\"+str(rowNum+1)+\"_\"+str(j))\n",
    "                paramvals.append(float(ratelaw[j+1]))\n",
    "                paramrxns.append(ratelaw_sheet[rowNum+1][0])\n",
    "                paramidxs.append(q)\n",
    "                pattern1 = 'k(\\D*)\\d*'+'_'+str(j)\n",
    "                compiled1 = re.compile(pattern1)\n",
    "                matches1 = compiled1.finditer(formula)\n",
    "                for ematch in matches1:\n",
    "                    formula = formula.replace(ematch.group(),paramnames[-1])\n",
    "                j +=1\n",
    "\n",
    "    if products == [] and reactants == []:\n",
    "        pass\n",
    "    else:\n",
    "        fileModel.write(\"  %s: %s => %s; (%s)*%s;\\n\" % (stoic_columnnames[rowNum], \" + \".join(reactants), \" + \".join(products), formula, ratelaw[0]))\n",
    "\n",
    "\n",
    "rowLastNo = rowNum+1\n",
    "for rowNum, val in enumerate(ia_genenames):\n",
    "\n",
    "    formula = \"k\"+str(rowLastNo+rowNum+1)+\"*\"+val\n",
    "    fileModel.write(\"  %s: %s => %s; (%s);\\n\" % ('vGac'+str(rowNum+1), val, ac_genenames[rowNum], formula))\n",
    "    \n",
    "    paramnames.append(\"k\"+str(rowLastNo+rowNum+1))\n",
    "    paramvals.append(kGac[rowNum])\n",
    "\n",
    "    paramrxns.append('vGac'+str(rowNum+1))\n",
    "    paramidxs.append(0)\n",
    "\n",
    "rowLastNo = rowLastNo+rowNum+1\n",
    "for rowNum, val in enumerate(ac_genenames):\n",
    "\n",
    "    formula = \"k\"+str(rowLastNo+rowNum+1)+\"*\"+val\n",
    "    fileModel.write(\"  %s: %s => %s; (%s);\\n\" % ('vGin'+str(rowNum+1), val, ia_genenames[rowNum], formula))\n",
    "    \n",
    "    paramnames.append(\"k\"+str(rowLastNo+rowNum+1))\n",
    "    paramvals.append(kGin[rowNum])\n",
    "\n",
    "    paramrxns.append('vGin'+str(rowNum+1))\n",
    "    paramidxs.append(0)\n",
    "    \n",
    "#\n",
    "\n",
    "TARsRead = pd.read_csv(os.path.join(input_path,fileGeneReg),header=0,index_col=0,sep=\"\\t\")\n",
    "TARs0 = (TARsRead.values)\n",
    "numberofTARs = len(TARsRead.columns)\n",
    "numberofgenes = int(len(gExp_mpc))\n",
    "\n",
    "tcnas = np.ones((numberofgenes, numberofTARs))\n",
    "tck50as = np.zeros((numberofgenes, numberofTARs))\n",
    "tcnrs = np.ones((numberofgenes, numberofTARs))\n",
    "tck50rs = np.zeros((numberofgenes, numberofTARs))\n",
    "for qq in range(numberofgenes):\n",
    "    for ww in range(numberofTARs):\n",
    "        pars = str(TARs0[qq,ww]).find(';')\n",
    "        if pars>0:\n",
    "            nH = np.float(TARs0[qq,ww][0:pars])\n",
    "            kH = np.float(TARs0[qq,ww][pars+2::])\n",
    "            if nH>0:\n",
    "                tcnas[qq,ww] = nH\n",
    "                tck50as[qq,ww] = kH\n",
    "            else:\n",
    "                tcnrs[qq,ww] = abs(nH)\n",
    "                tck50rs[qq,ww] = kH\n",
    "mpc2nmcf_Vn = 1.0E9/(np.float(Vn)*6.023E+23)\n",
    "mpc2nmcf_Vc = 1.0E9/(np.float(Vc)*6.023E+23)\n",
    "\n",
    "\n",
    "mrnas2cut = [\"m_RB1\",\"m_E2F1\",\"m_E2F2\",\"m_E2F3\",\"m_CCNE1\",\"m_CCNE2\",\"m_SKP2\",\"m_CDC25A\",\"m_CDC25B\",\"m_CDC25C\",\"m_CCNA2\",\"m_CDKN1B\",\"m_CDH1\",\"m_CCNB1\",\"m_CDC20\",\"m_WEE1\",\"m_CHEK1\"]\n",
    "mrnas2mod = [\"m_CCND1\",\"m_CCND2\",\"m_CCND3\"]\n",
    "\n",
    "\n",
    "rowLastNo = rowLastNo+rowNum+1\n",
    "for rowNum, val in enumerate(mRNAnames):\n",
    "\n",
    "    tempTAs = []\n",
    "    tempnAs = []\n",
    "    tempKAs = []\n",
    "    tempTRs = []\n",
    "    tempnRs = []\n",
    "    tempKRs = []\n",
    "\n",
    "    for qq in range(numberofTARs):\n",
    "        if tck50as[rowNum,qq] > 0:\n",
    "            tempTAs.append(TARsRead.columns[qq])\n",
    "            tempnAs.append(tcnas[rowNum,qq])\n",
    "            tempKAs.append(tck50as[rowNum,qq])\n",
    "        if tck50rs[rowNum,qq] > 0:\n",
    "            tempTRs.append(TARsRead.columns[qq])\n",
    "            tempnRs.append(tcnrs[rowNum,qq])\n",
    "            tempKRs.append(tck50rs[rowNum,qq])\n",
    "\n",
    "\n",
    "    j = 3\n",
    "    formulaAs = []\n",
    "    for pp in range(np.size(tempTAs)):\n",
    "        formulaAs.append(\"(\"+tempTAs[pp]+\"/\"+\"k\"+str(rowLastNo+rowNum+1)+\"_\"+str(j)+\")^\"+\"k\"+str(rowLastNo+rowNum+1)+\"_\"+str(j+1))\n",
    "        paramnames.append(\"k\"+str(rowLastNo+rowNum+1)+\"_\"+str(j))\n",
    "        paramvals.append(tempKAs[pp])\n",
    "        paramrxns.append('vTC'+str(rowNum+1))\n",
    "        paramidxs.append(j)\n",
    "        paramnames.append(\"k\"+str(rowLastNo+rowNum+1)+\"_\"+str(j+1))\n",
    "        paramvals.append(tempnAs[pp])\n",
    "        paramrxns.append('vTC'+str(rowNum+1))\n",
    "        paramidxs.append(j+1)       \n",
    "        j = j + 2\n",
    "    if val not in mrnas2mod: # if not Cyclin D gene\n",
    "        formulaAs = \" + \".join(formulaAs)\n",
    "\n",
    "\n",
    "    \n",
    "    formulaRs = []\n",
    "    for pp in range(np.size(tempTRs)):\n",
    "        formulaRs.append(\"(\"+tempTRs[pp]+\"/\"+\"k\"+str(rowLastNo+rowNum+1)+\"_\"+str(j)+\")^\"+\"k\"+str(rowLastNo+rowNum+1)+\"_\"+str(j+1))\n",
    "        paramnames.append(\"k\"+str(rowLastNo+rowNum+1)+\"_\"+str(j))\n",
    "        paramvals.append(tempKRs[pp])\n",
    "        paramrxns.append('vTC'+str(rowNum+1))\n",
    "        paramidxs.append(j)\n",
    "        paramnames.append(\"k\"+str(rowLastNo+rowNum+1)+\"_\"+str(j+1))\n",
    "        paramvals.append(tempnRs[pp])\n",
    "        paramrxns.append('vTC'+str(rowNum+1))\n",
    "        paramidxs.append(j+1)  \n",
    "        j = j + 2\n",
    "    formulaRs = \" + \".join(formulaRs)       \n",
    "\n",
    "    if val in mrnas2mod: # if Cyclin D gene            \n",
    "        formulaARs = formulaAs[0]+\"/(1.0+\"+formulaAs[0]+\")\"+\"*\"+formulaAs[1]+\"/(1.0+\"+formulaAs[1]+\")\"\n",
    "    elif formulaAs and formulaRs:\n",
    "        formulaARs = \"(\"+\"(\"+formulaAs+\")\"+\"/(1.0+\"+formulaAs+\"+\"+formulaRs+\"))\"\n",
    "    elif formulaAs:\n",
    "        formulaARs = \"(\"+\"(\"+formulaAs+\")/(1.0+\"+formulaAs+\"))\"\n",
    "    elif formulaRs:\n",
    "        formulaARs = \"(1.0\"+\"/(1.0+\"+formulaRs+\"))\"\n",
    "    else:\n",
    "        formulaARs = \"0.0\"\n",
    "\n",
    "    j = 1\n",
    "\n",
    "\n",
    "    formula = \"(\"+\"k\"+str(rowLastNo+rowNum+1)+\"_\"+str(j)+\"*\"+ac_genenames[rowNum]+\")+\"+\"(\"+\"k\"+str(rowLastNo+rowNum+1)+\"_\"+str(j+1)+\"*\"+ac_genenames[rowNum]+\"*\"+formulaARs+\")\"\n",
    "\n",
    "    fileModel.write(\"  %s: %s => %s; (%s)*%s;\\n\" % ('vTC'+str(rowNum+1), \"\", val, formula, genesComp[rowNum])) # for vTC\n",
    "\n",
    "\n",
    "    paramnames.append(\"k\"+str(rowLastNo+rowNum+1)+\"_\"+str(j))\n",
    "    paramvals.append(kTCleak[rowNum])\n",
    "    paramrxns.append('vTC'+str(rowNum+1))\n",
    "    paramidxs.append(1)\n",
    "    paramnames.append(\"k\"+str(rowLastNo+rowNum+1)+\"_\"+str(j+1))\n",
    "    paramvals.append(kTCmaxs[rowNum])\n",
    "    paramrxns.append('vTC'+str(rowNum+1))\n",
    "    paramidxs.append(2)  \n",
    "\n",
    "rowLastNo = rowLastNo+rowNum+1\n",
    "for rowNum, val in enumerate(mRNAnames):\n",
    "\n",
    "\n",
    "    formula = \"(\"+\"k\"+str(rowLastNo+rowNum+1)+\"*\"+val+\")\"\n",
    "\n",
    "    fileModel.write(\"  %s: %s => %s; (%s)*%s;\\n\" % ('vTCd'+str(rowNum+1), val, \"\", formula, genesComp[rowNum])) # for vTCd\n",
    "    paramnames.append(\"k\"+str(rowLastNo+rowNum+1))\n",
    "    paramvals.append(kTCd[rowNum])\n",
    "    paramrxns.append('vTCd'+str(rowNum+1))\n",
    "    paramidxs.append(0)\n",
    "    \n",
    "# Export parameters for each reaction, with corresponding order within the ratelaw and its value\n",
    "params_all = pd.DataFrame({'value':paramvals,'rxn':paramrxns,'idx':paramidxs},index=paramnames)\n",
    "params_all.to_csv(os.path.join(cd,fileParamsOut),sep='\\t',header=True, index=True)\n",
    "\n"
   ]
  },
  {
   "cell_type": "markdown",
   "id": "5363b879",
   "metadata": {},
   "source": [
    "### Next, we set the \"Initial Conditions\" for Compartments, Species, and Parameters"
   ]
  },
  {
   "cell_type": "code",
   "execution_count": 8,
   "id": "a7af9b13",
   "metadata": {},
   "outputs": [],
   "source": [
    "#% The Compartment initial conditions\n",
    "\n",
    "# Write compartment ICs\n",
    "fileModel.write(\"\\n  # Compartment initializations:\\n\")\n",
    "for idx in range(len(compartments)):\n",
    "    fileModel.write(\"  %s = %.6e;\\n\" % (compartments[idx], np.double(volumes[idx])))\n",
    "    fileModel.write(\"  %s has volume;\\n\" % (compartments[idx]))\n",
    "    \n",
    "# The Species initial conditions\n",
    "# Write species ICs\n",
    "fileModel.write(\"\\n  # Species initializations:\\n\")\n",
    "for idx, val in enumerate(species_sheet[1:]):\n",
    "    fileModel.write(\"  %s = %.6e;\\n\" % (val[0],np.double(val[2])))\n",
    "    \n",
    "\n",
    "xgac_mpc_D = (kGac*gExp_mpc)/(kGin+kGac) #active genes initial condition\n",
    "xgin_mpc_D = gExp_mpc - xgac_mpc_D\n",
    "\n",
    "genesIC = np.concatenate((xgac_mpc_D,xgin_mpc_D))\n",
    "\n",
    "#%%\n",
    "\n",
    "\n",
    "\n",
    "for idx, val in enumerate(ac_genenames):\n",
    "    fileModel.write(\"  %s = %.6e;\\n\" % (val,np.double(genesIC[idx]*mpc2nmcf_Vc)))\n",
    "for idx, val in enumerate(ia_genenames):\n",
    "    fileModel.write(\"  %s = %.6e;\\n\" % (val,np.double(genesIC[idx+len(model_genes)]*mpc2nmcf_Vc)))\n",
    "for idx, val in enumerate(mRNAnames):\n",
    "    fileModel.write(\"  %s = %.6e;\\n\" % (val,np.double(mExp_mpc[idx]*mpc2nmcf_Vc)))\n",
    "    \n",
    "# The Parameter (of reactions) initial conditions\n",
    "\n",
    "# Write parameter ICs\n",
    "fileModel.write(\"\\n  # Parameter initializations:\\n\")\n",
    "count = 0\n",
    "for param in paramnames:\n",
    "    fileModel.write(\"  %s = %.6e;\\n\" % (param, np.double(paramvals[count])))\n",
    "    count += 1\n",
    "\n"
   ]
  },
  {
   "cell_type": "markdown",
   "id": "f8f31729",
   "metadata": {},
   "source": [
    "### Other declarations supported by Antimony"
   ]
  },
  {
   "cell_type": "code",
   "execution_count": 9,
   "id": "c4366b37",
   "metadata": {},
   "outputs": [
    {
     "data": {
      "text/plain": [
       "17"
      ]
     },
     "execution_count": 9,
     "metadata": {},
     "output_type": "execute_result"
    }
   ],
   "source": [
    "#%% Other declarations supported by Antimony\n",
    "# Write other declarations\n",
    "constantVars = ['Cytoplasm','Extracellular','Nucleus','Mitochondrion']\n",
    "\n",
    "fileModel.write(\"\\n  # Other declarations:\\n\")\n",
    "fileModel.write(\"  const\")\n",
    "for constVar in constantVars[:-1]:\n",
    "    fileModel.write(\"  %s,\" % (constVar))\n",
    "#last item in row needs semicolon\n",
    "fileModel.write(\"  %s;\\n\" % (constantVars[-1]))"
   ]
  },
  {
   "cell_type": "markdown",
   "id": "75490e4b",
   "metadata": {},
   "source": [
    "### The Unit Definitions\n",
    "\n",
    "We define the time, volume, and substance units"
   ]
  },
  {
   "cell_type": "code",
   "execution_count": 10,
   "id": "8fedbcd4",
   "metadata": {},
   "outputs": [
    {
     "data": {
      "text/plain": [
       "1"
      ]
     },
     "execution_count": 10,
     "metadata": {},
     "output_type": "execute_result"
    }
   ],
   "source": [
    "# Write unit definitions\n",
    "fileModel.write(\"\\n  # Unit definitions:\")\n",
    "fileModel.write(\"\\n  unit time_unit = second;\")\n",
    "fileModel.write(\"\\n  unit volume = litre;\")\n",
    "fileModel.write(\"\\n  unit substance = 1e-9 mole;\")\n",
    "fileModel.write(\"\\n  unit nM = 1e-9 mole / litre;\")\n",
    "fileModel.write(\"\\n\")"
   ]
  },
  {
   "cell_type": "markdown",
   "id": "70e1ce3f",
   "metadata": {},
   "source": [
    "### End of the Antimony file, close the file"
   ]
  },
  {
   "cell_type": "code",
   "execution_count": 11,
   "id": "0d936746",
   "metadata": {},
   "outputs": [],
   "source": [
    "# End the model file\n",
    "fileModel.write(\"\\nend\")\n",
    "# Close the file\n",
    "fileModel.close()"
   ]
  },
  {
   "cell_type": "markdown",
   "id": "dbfcaa81",
   "metadata": {},
   "source": [
    "### The Antimony file import and conversion to SBML format"
   ]
  },
  {
   "cell_type": "code",
   "execution_count": 12,
   "id": "4da489bf",
   "metadata": {},
   "outputs": [
    {
     "name": "stdout",
     "output_type": "stream",
     "text": [
      "Success loading antimony file\n",
      "Success converting antimony to SBML\n"
     ]
    }
   ],
   "source": [
    "# load model and convert to SBML\n",
    "if loadFile(os.path.join(cd,fnameInput+\".txt\")) == 1:\n",
    "    print(\"Success loading antimony file\")\n",
    "else:\n",
    "    print(\"Failed to load antimony file\")\n",
    "    exit(1)\n",
    "\n",
    "if writeSBMLFile(os.path.join(cd,fnameInput+\".xml\"),fnameInput) == 1:\n",
    "    print(\"Success converting antimony to SBML\")\n",
    "else:\n",
    "    print(\"Failure converting antimony to SBML\")"
   ]
  },
  {
   "cell_type": "markdown",
   "id": "5cba2680",
   "metadata": {},
   "source": [
    "#### The initial SBML file is imported again, to add annotations for the Compartments and Species\n",
    "\n",
    "Currently, the Antimony file format does not support Annotation definitions. So, we re-process the SBML file and add Annotations for the Compartments (GO terms) and Species (HGNC or ENSEMBL identifiers)."
   ]
  },
  {
   "cell_type": "markdown",
   "id": "42ca4860",
   "metadata": {},
   "source": [
    "### Import the SBML file and get the model handle"
   ]
  },
  {
   "cell_type": "code",
   "execution_count": 13,
   "id": "56135fd9",
   "metadata": {},
   "outputs": [
    {
     "data": {
      "text/plain": [
       "True"
      ]
     },
     "execution_count": 13,
     "metadata": {},
     "output_type": "execute_result"
    }
   ],
   "source": [
    "# create interaction components\n",
    "sbml_reader = libsbml.SBMLReader()\n",
    "sbml_doc = sbml_reader.readSBML(os.path.join(cd,sbml_file))\n",
    "sbml_model = sbml_doc.getModel()\n",
    "\n",
    "# Set species annotations\n",
    "for idx,row in enumerate(species_sheet[1:]):\n",
    "    Annot=\"\"\n",
    "    for col in range(4,(len(row))):\n",
    "        aa=str(row[col].strip())\n",
    "        if aa==\"nan\" or aa == \"\":\n",
    "            break\n",
    "        else:\n",
    "            Annot=Annot+\" \"+row[col]\n",
    "    sbml_model.getSpecies(row[0]).setAnnotation(Annot)\n",
    "    \n",
    "#\n",
    "# Set compartment annotations\n",
    "for row in compartment_sheet[1:]:\n",
    "    sbml_model.getCompartment(row[0]).setAnnotation(row[2])\n",
    "    \n",
    "# Write with the same name or use the next section instead of below lines\n",
    "writer = libsbml.SBMLWriter()\n",
    "writer.writeSBML(sbml_doc, os.path.join(cd,sbml_file))\n",
    "\n"
   ]
  },
  {
   "cell_type": "markdown",
   "id": "ada8fb9f",
   "metadata": {},
   "source": [
    "## The Model Compilation"
   ]
  },
  {
   "cell_type": "markdown",
   "id": "476eafbf",
   "metadata": {},
   "source": [
    "### Import the SBML file and compile using the AMICI package"
   ]
  },
  {
   "cell_type": "code",
   "execution_count": 14,
   "id": "730e3522",
   "metadata": {},
   "outputs": [],
   "source": [
    "# prepares to use interaction components to synthesize model\n",
    "sys.path.insert(0, os.path.abspath(model_output_dir))\n",
    "model_name = sbml_file[0:-4]\n",
    "model_output_dir = model_name\n",
    "\n",
    "sbml_reader = libsbml.SBMLReader()\n",
    "sbml_doc = sbml_reader.readSBML(os.path.join(cd,sbml_file))\n",
    "sbml_model = sbml_doc.getModel()\n",
    "\n",
    "# Create an SbmlImporter instance for our SBML model\n",
    "sbml_importer = amici.SbmlImporter(os.path.join(cd,sbml_file))"
   ]
  },
  {
   "cell_type": "markdown",
   "id": "14dfbcc1",
   "metadata": {},
   "source": [
    "#### Setting AMICI converter arguments\n",
    "\n",
    "We set all the rate parameters as constant for faster compilation. It is also a good idea to define \"Observables\" for easier comparison to experimental data. An observable in our model corresponds to the totality of a protein sepcies, including all of its post-translationally modified and unmodified states, corrected for compartmental volume differences and reported based on cytoplasmic volume. We defined 102 observables using the \"Observables.txt\" input file in `AMICI` required format."
   ]
  },
  {
   "cell_type": "code",
   "execution_count": 15,
   "id": "947a0f13",
   "metadata": {},
   "outputs": [],
   "source": [
    "#sets important constants for model build\n",
    "constantParameters = [params.getId() for params in sbml_model.getListOfParameters()]\n",
    "\n",
    "# creates observables.\n",
    "\n",
    "obs_input = pd.read_csv(os.path.join(input_path,fileObservables),sep='\\t',header=0,index_col=0)\n",
    "ObsMat = obs_input.loc[~np.isin(obs_input.index,sp_mrna),:]\n",
    "\n",
    "# ObsMat = pd.read_csv(os.path.join(wd,'input_files',fileObservables), sep='\\t',header=0, index_col=0)\n",
    "Vc = float(compartment_sheet[compartment_sheet[:,0]=='Cytoplasm',1])\n",
    "\n",
    "species_names = np.array([species_sheet[i][0] for i in range(1,len(species_sheet))])\n",
    "Vol_species = np.array([species_sheet[i][1] for i in range(1,len(species_sheet))])\n",
    "Vol_species = [float(compartment_sheet[compartment_sheet[:,0]==Vol_species[i],1][0]) for i in range(len(Vol_species))]\n",
    "Vol_species = pd.Series(Vol_species, index=species_names)\n",
    "\n",
    "formula_obs = []\n",
    "for obs in ObsMat.columns:\n",
    "    sp_obs = ObsMat.index[np.nonzero(np.array(ObsMat.loc[:,obs]>0))[0]]\n",
    "    sp_obs_id = np.nonzero(np.array(ObsMat.loc[:,obs]>0))[0]\n",
    "    Vr = Vol_species/Vc\n",
    "    Vf = Vr*ObsMat.loc[:,obs].values\n",
    "    if len(sp_obs) == 1:\n",
    "        formula_i = sp_obs[0]+'*'+str(Vf[sp_obs_id][0])\n",
    "    elif len(sp_obs) == 2:\n",
    "        formula_i = str(sp_obs[0]+'*'+str(Vf[sp_obs_id][0])+'+'+sp_obs[1]+'*'+str(Vf[sp_obs_id][1]))\n",
    "    elif len(sp_obs) > 2:\n",
    "        formula_i = ''\n",
    "        for j in range(len(sp_obs)-1):\n",
    "            formula_i = formula_i+sp_obs[j]+'*'+str(Vf[sp_obs_id][j])+'+'\n",
    "        formula_i = formula_i+str(sp_obs[-1])+'*'+str(Vf[sp_obs_id][-1])\n",
    "    formula_obs.append(formula_i)\n",
    "\n",
    "observables = {}\n",
    "obs_names = list(ObsMat.columns)\n",
    "for i in range(len(obs_names)):\n",
    "    observables[obs_names[i]] = {}\n",
    "    observables[obs_names[i]]['formula'] = formula_obs[i]\n",
    "\n"
   ]
  },
  {
   "cell_type": "markdown",
   "id": "c0b502e3",
   "metadata": {},
   "source": [
    "#### Compile the model and create required C++ dependencies for simulation. \n",
    "\n",
    "Creates a sub-folder with the same name as the model (i.e. SPARCED)"
   ]
  },
  {
   "cell_type": "code",
   "execution_count": 16,
   "id": "9c5fc29f",
   "metadata": {},
   "outputs": [],
   "source": [
    "# The actual compilation step by AMICI, takes a while to complete for large models\n",
    "sbml_importer.sbml2amici(model_name,\n",
    "                         os.path.join(cd,model_output_dir),\n",
    "                         verbose=False,\n",
    "                         observables=observables,\n",
    "                         constantParameters=constantParameters)"
   ]
  },
  {
   "cell_type": "markdown",
   "id": "71e769b2",
   "metadata": {},
   "source": [
    "## The model creation is now complete! Enjoy..."
   ]
  }
 ],
 "metadata": {
  "kernelspec": {
   "display_name": "Python 3",
   "language": "python",
   "name": "python3"
  },
  "language_info": {
   "codemirror_mode": {
    "name": "ipython",
    "version": 3
   },
   "file_extension": ".py",
   "mimetype": "text/x-python",
   "name": "python",
   "nbconvert_exporter": "python",
   "pygments_lexer": "ipython3",
   "version": "3.9.6"
  }
 },
 "nbformat": 4,
 "nbformat_minor": 5
}
