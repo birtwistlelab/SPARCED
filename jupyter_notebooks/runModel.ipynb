{
 "cells": [
  {
   "cell_type": "code",
   "execution_count": null,
   "metadata": {},
   "outputs": [],
   "source": [
    "#runModel: executes the model that's been built"
   ]
  },
  {
   "cell_type": "code",
   "execution_count": null,
   "metadata": {},
   "outputs": [],
   "source": [
    "import sys\n",
    "import os\n",
    "sys.path.append(os.getcwd()[0:os.getcwd().rfind('/')]+'/bin')"
   ]
  },
  {
   "cell_type": "code",
   "execution_count": null,
   "metadata": {},
   "outputs": [],
   "source": [
    "import libsbml\n",
    "import importlib\n",
    "import amici\n",
    "import amici.plotting\n",
    "import numpy as np\n",
    "import matplotlib.pyplot as plt\n",
    "import pandas as pd\n",
    "from datetime import datetime\n",
    "import scipy.stats\n",
    "import argparse\n",
    "\n",
    "from modules.RunSPARCED import RunSPARCED"
   ]
  },
  {
   "cell_type": "code",
   "execution_count": 4,
   "metadata": {},
   "outputs": [],
   "source": [
    "# SBML model we want to import\n",
    "sbml_file = 'SPARCED.xml'\n",
    "# Name of the model that will also be the name of the python module\n",
    "model_name = sbml_file[0:-4]\n",
    "# Directory to which the generated model code is written\n",
    "model_output_dir = model_name\n",
    "# used for filename to save\n",
    "cellNumber = 0  "
   ]
  },
  {
   "cell_type": "code",
   "execution_count": null,
   "metadata": {},
   "outputs": [],
   "source": [
    "# deterministic=1, stochastic=0\n",
    "flagD = 1\n",
    "\n",
    "# deterministic='GrowthStim_det_', stochastic='GrowthStim_stoc_'\n",
    "nmxlsfile = 'GrowthStim_det_'\n",
    "\n",
    "ts = 30\n",
    "th = 2\n",
    "Vn = 1.75E-12\n",
    "Vc = 5.25E-12\n",
    "STIMligs = [100,100.0,100.0,100.0,100.0,100.0,1721.0] # EGF, Her, HGF, PDGF, FGF, IGF, INS"
   ]
  },
  {
   "cell_type": "code",
   "execution_count": null,
   "metadata": {},
   "outputs": [],
   "source": [
    "sys.path.insert(0, os.path.abspath(model_output_dir))\n",
    "species_sheet = np.array([np.array(line.strip().split(\"\\t\")) for line in open('Species.txt', encoding='latin-1')])\n",
    "\n",
    "species_initializations = []\n",
    "for row in species_sheet[1:]:\n",
    "    species_initializations.append(float(row[2]))\n",
    "species_initializations = np.array(species_initializations)\n",
    "species_initializations[np.argwhere(species_initializations <= 1e-6)] = 0.0\n",
    "species_initializations[155:162] = STIMligs"
   ]
  },
  {
   "cell_type": "code",
   "execution_count": null,
   "metadata": {},
   "outputs": [],
   "source": [
    "model_module = importlib.import_module(model_name)\n",
    "model = model_module.getModel()\n",
    "solver = model.getSolver()          # Create solver instance\n",
    "solver.setMaxSteps = 1e10\n",
    "model.setTimepoints(np.linspace(0,ts)) # np.linspace(0, 30) # set timepoints\n",
    "\n",
    "xoutS_all, xoutG_all, tout_all = RunSPARCED(flagD,th,species_initializations,[],Vn,Vc,model)"
   ]
  },
  {
   "cell_type": "code",
   "execution_count": null,
   "metadata": {},
   "outputs": [],
   "source": [
    "# saves output\n",
    "columnsS=[ele for ele in model.getStateIds()]\n",
    "columnsG = columnsS[773:914]\n",
    "resa = [sub.replace('m_', 'ag_') for sub in columnsG]\n",
    "resi = [sub.replace('m_', 'ig_') for sub in columnsG]\n",
    "columnsG2 = np.concatenate((resa, resi), axis=None)\n",
    "condsSDF = pd.DataFrame(data=xoutS_all,columns=columnsS)\n",
    "condsSDF.to_csv(nmxlsfile+'S_'+str(cellNumber)+'.txt',sep=\"\\t\")  \n",
    "condsSDF = None\n",
    "condsGDF = pd.DataFrame(data=xoutG_all,columns=columnsG2)\n",
    "condsGDF.to_csv(nmxlsfile+'G_'+str(cellNumber)+'.txt',sep=\"\\t\") \n",
    "condsGDF = None\n",
    "cellNumber+=1"
   ]
  }
 ],
 "metadata": {
  "kernelspec": {
   "display_name": "Python 3 (Spyder)",
   "language": "python3",
   "name": "python3"
  },
  "language_info": {
   "codemirror_mode": {
    "name": "ipython",
    "version": 3
   },
   "file_extension": ".py",
   "mimetype": "text/x-python",
   "name": "python",
   "nbconvert_exporter": "python",
   "pygments_lexer": "ipython3",
   "version": "3.7.5"
  }
 },
 "nbformat": 4,
 "nbformat_minor": 4
}
