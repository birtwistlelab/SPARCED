{
 "cells": [
  {
   "cell_type": "code",
   "execution_count": 1,
   "id": "430a2f4b",
   "metadata": {},
   "outputs": [],
   "source": [
    "import amici"
   ]
  },
  {
   "cell_type": "code",
   "execution_count": null,
   "id": "95db12de",
   "metadata": {},
   "outputs": [],
   "source": []
  }
 ],
 "metadata": {
  "kernelspec": {
   "display_name": "Python 3",
   "language": "python",
   "name": "python3"
  },
  "language_info": {
   "codemirror_mode": {
    "name": "ipython",
    "version": 3
   },
   "file_extension": ".py",
   "mimetype": "text/x-python",
   "name": "python",
   "nbconvert_exporter": "python",
   "pygments_lexer": "ipython3",
   "version": "3.9.6"
  }
 },
 "nbformat": 4,
 "nbformat_minor": 5
}
