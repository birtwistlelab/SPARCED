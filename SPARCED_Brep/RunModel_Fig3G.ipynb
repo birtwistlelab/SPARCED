{
 "cells": [
  {
   "cell_type": "code",
   "execution_count": null,
   "metadata": {},
   "outputs": [],
   "source": [
    "import libsbml\n",
    "import importlib\n",
    "import amici\n",
    "import amici.plotting\n",
    "import os\n",
    "import sys\n",
    "import numpy as np\n",
    "import matplotlib.pyplot as plt\n",
    "import pandas as pd\n",
    "from datetime import datetime\n",
    "import scipy.stats\n",
    "\n",
    "from gm import gm\n",
    "from gm_Prep import gm_Prep"
   ]
  },
  {
   "cell_type": "code",
   "execution_count": null,
   "metadata": {},
   "outputs": [],
   "source": [
    "# np.random.seed(1337)"
   ]
  },
  {
   "cell_type": "code",
   "execution_count": null,
   "metadata": {},
   "outputs": [],
   "source": [
    "flagD = 1\n",
    "th = 200\n",
    "ts = 30\n",
    "NSteps = th*3600/ts\n",
    "NSteps = int(NSteps)\n",
    "\n",
    "# SBML model we want to import\n",
    "sbml_file = 'SPARCED_Brep.xml'\n",
    "# Name of the model that will also be the name of the python module\n",
    "model_name = sbml_file[0:-4]\n",
    "# Directory to which the generated model code is written\n",
    "model_output_dir = model_name\n",
    "\n",
    "sys.path.insert(0, os.path.abspath(model_output_dir))\n",
    "model_module = importlib.import_module(model_name)\n",
    "model = model_module.getModel()\n",
    "solver = model.getSolver() # Create solver instance\n",
    "solver.setMaxSteps = 1e10\n",
    "model.setTimepoints(np.linspace(0,ts)) # np.linspace(0, 30) # set timepoints\n",
    "\n",
    "kGsRead = pd.read_csv('OmicsData.txt',header=0,index_col=0,sep=\"\\t\")\n",
    "gExp_mpc = np.float64(kGsRead.values[:,0])\n",
    "mExp_mpc = np.float64(kGsRead.values[:,1])\n",
    "kGin = np.float64(kGsRead.values[:,2])\n",
    "kGac = np.float64(kGsRead.values[:,3])\n",
    "kTCleak = np.float64(kGsRead.values[:,4])\n",
    "kTCmaxs = np.float64(kGsRead.values[:,5])\n",
    "kTCd = np.float64(kGsRead.values[:,6])\n",
    "kmRNAs = kGsRead.values[:,7]\n",
    "\n",
    "# Read-in the activators matrix and assign concentrations of activators\n",
    "TAsRead = pd.read_csv('TAs.csv',header=0,index_col=0)\n",
    "TAs0 = np.float64(TAsRead.values)\n",
    "# Read-in the repressors matrix and assign concentrations of repressors\n",
    "TRsRead = pd.read_csv('TRs.csv',header=0,index_col=0)\n",
    "TRs0 = np.float64(TRsRead.values)"
   ]
  },
  {
   "cell_type": "code",
   "execution_count": null,
   "metadata": {},
   "outputs": [],
   "source": [
    "genedata, GenePositionMatrix, AllGenesVec, xgac_mpc_D, xgin_mpc_D, xgac_mpc, xgin_mpc, kTCleak2 \\\n",
    "= gm_Prep(flagD, gExp_mpc, mExp_mpc, kGin, kGac, kTCleak, kTCmaxs, kTCd)"
   ]
  },
  {
   "cell_type": "code",
   "execution_count": null,
   "metadata": {},
   "outputs": [],
   "source": [
    "Vn = 1.75E-12\n",
    "Vc = 5.25E-12\n",
    "traildoses = [0.000385, 0.001925, 0.00385, 0.01925, 0.0385, 0.1925, 0.385, 1.9250, 3.85, 19.25, 38.5]\n",
    "\n",
    "startTime = datetime.now()\n",
    "print(startTime)\n",
    "spdata0 = pd.read_csv('Species_Brep.txt',header=0,index_col=0,sep=\"\\t\")\n",
    "spdata = np.double(spdata0.values[:,1])\n",
    "conds = [] # list for different conditions to be simulated\n",
    "ttds = [] # list to save time-to-death values\n",
    "deathcond = [] # list to save if the cell died or not\n",
    "tout_all = np.arange(0,th*3600+1,30)\n",
    "namexls = 'Fig3G_sims_TRAILdoses_200hr_det_'\n",
    "for ii in range(len(traildoses)): \n",
    "    spdata2 = spdata\n",
    "    spdata2[83] = traildoses[ii]\n",
    "    xoutS_all = np.zeros(shape=(NSteps+1,len(spdata)))\n",
    "    xoutS_all[0,:] = spdata2\n",
    "    for qq in range(NSteps):\n",
    "        genedata,AllGenesVec = gm(flagD,ts,genedata,xoutS_all[qq,:],Vn,Vc,kGin,kGac, \\\n",
    "                                   kTCmaxs,kTCleak,kTCd,AllGenesVec,GenePositionMatrix,TAs0,TRs0)\n",
    "        for ii,kk in enumerate(kmRNAs):\n",
    "            model.setFixedParameterById(kk,genedata[ii+282]*(1E9/(Vc*6.023E+23)))\n",
    "        model.setInitialStates(xoutS_all[qq,:])\n",
    "        rdata = amici.runAmiciSimulation(model, solver) # Run simulation\n",
    "        if rdata['x'][-1,103] < rdata['x'][-1,105]:\n",
    "            print('Apoptosis happened')\n",
    "            xoutS_all[qq+1,:] = rdata['x'][-1,:]\n",
    "            deathcond.append([1])\n",
    "            break\n",
    "        xoutS_all[qq+1,:] = rdata['x'][-1,:]\n",
    "        deathcond.append([0])\n",
    "    xoutS_all = xoutS_all[~np.all(xoutS_all == 0, axis=1)]\n",
    "    conds.append(xoutS_all)\n",
    "    ttds.append((qq+1)*ts)\n",
    "    print(datetime.now() - startTime)\n",
    "    condsDF = pd.DataFrame(data=xoutS_all,columns=[ele for ele in model.getStateIds()]) \n",
    "    condsDF.to_csv(namexls+str(ii)+'.txt',sep=\"\\t\")    \n",
    "    print(datetime.now() - startTime)\n",
    "ttsDF = pd.DataFrame(data=ttds) \n",
    "ttsDF.to_csv(namexls+'ttds.txt',sep=\"\\t\")\n",
    "print(datetime.now())"
   ]
  },
  {
   "cell_type": "code",
   "execution_count": null,
   "metadata": {},
   "outputs": [],
   "source": [
    "conds = []\n",
    "ttds = []\n",
    "namexls = 'Fig3G_sims_TRAILdoses_200hr_det_'\n",
    "for ii in range(11):\n",
    "    condsDF = pd.read_csv(namexls+str(ii)+'.txt',header=0,index_col=0,sep=\"\\t\")\n",
    "    condsDF = np.double(condsDF.values[:])\n",
    "    condsDF = condsDF[~np.all(condsDF == 0, axis=1)]\n",
    "    conds.append(condsDF)\n",
    "    ttd = tout_all[condsDF.shape[0]-1]\n",
    "    ttds.append(ttd)\n",
    "    condsDF = None\n",
    "    print(ii)"
   ]
  },
  {
   "cell_type": "code",
   "execution_count": null,
   "metadata": {},
   "outputs": [],
   "source": [
    "plt.figure(figsize=(7, 4))\n",
    "for ii in range(1,11,2):\n",
    "    tout = np.arange(0,ttds[ii]+1,ts)\n",
    "    plt.plot(tout/3600.0,(((conds[ii][:,105]))),linewidth=4)\n",
    "plt.xlabel('Time (hrs)')\n",
    "plt.ylabel('cPARP (nM)', multialignment='center')\n",
    "plt.grid(True)\n",
    "plt.xlim(0, 72)\n",
    "plt.ylim(0, 400)\n",
    "plt.xticks(np.arange(0,72,step=6))\n",
    "plt.savefig('cPARP_Fig3G2.png')"
   ]
  },
  {
   "cell_type": "code",
   "execution_count": null,
   "metadata": {},
   "outputs": [],
   "source": [
    "# traildoses = np.array([0.000385, 0.001925, 0.00385, 0.01925, 0.0385, 0.1925, 0.385, 1.9250, 3.85, 19.25, 38.5])\n",
    "dosesngperml = traildoses*2.597402597402597e+01\n",
    "plt.figure(figsize=(7, 4))\n",
    "plt.plot(np.log10(dosesngperml),np.array(ttds)/3600.0,marker='s',linewidth=4)\n",
    "plt.xlabel('log10(TRAIL dose)')\n",
    "plt.ylabel('ttd (hrs)', multialignment='center')\n",
    "plt.grid(True)\n",
    "plt.savefig('cPARP_Fig3G3.png')"
   ]
  }
 ],
 "metadata": {
  "kernelspec": {
   "display_name": "Python 3 (Spyder)",
   "language": "python3",
   "name": "python3"
  },
  "language_info": {
   "codemirror_mode": {
    "name": "ipython",
    "version": 3
   },
   "file_extension": ".py",
   "mimetype": "text/x-python",
   "name": "python",
   "nbconvert_exporter": "python",
   "pygments_lexer": "ipython3",
   "version": "3.7.5"
  }
 },
 "nbformat": 4,
 "nbformat_minor": 4
}
