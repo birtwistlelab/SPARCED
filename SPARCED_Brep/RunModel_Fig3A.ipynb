{
 "cells": [
  {
   "cell_type": "code",
   "execution_count": null,
   "metadata": {},
   "outputs": [],
   "source": [
    "import libsbml\n",
    "import importlib\n",
    "import amici\n",
    "import amici.plotting\n",
    "import os\n",
    "import sys\n",
    "import numpy as np\n",
    "import matplotlib.pyplot as plt\n",
    "import pandas as pd\n",
    "from datetime import datetime\n",
    "import scipy.stats\n",
    "\n",
    "from gm import gm\n",
    "from gm_Prep import gm_Prep"
   ]
  },
  {
   "cell_type": "code",
   "execution_count": null,
   "metadata": {},
   "outputs": [],
   "source": [
    "# np.random.seed(1337) # set a random seed number or not"
   ]
  },
  {
   "cell_type": "code",
   "execution_count": null,
   "metadata": {},
   "outputs": [],
   "source": [
    "flagD = 1\n",
    "th = 1\n",
    "ts = 30\n",
    "NSteps = th*3600/ts\n",
    "NSteps = int(NSteps)\n",
    "\n",
    "# SBML model we want to import\n",
    "sbml_file = 'SPARCED_Brep.xml'\n",
    "# Name of the model that will also be the name of the python module\n",
    "model_name = sbml_file[0:-4]\n",
    "# Directory to which the generated model code is written\n",
    "model_output_dir = model_name\n",
    "\n",
    "sys.path.insert(0, os.path.abspath(model_output_dir))\n",
    "model_module = importlib.import_module(model_name)\n",
    "model = model_module.getModel()\n",
    "solver = model.getSolver() # Create solver instance\n",
    "solver.setMaxSteps = 1e10\n",
    "model.setTimepoints(np.linspace(0,ts)) # np.linspace(0, 30) # set timepoints\n",
    "\n",
    "spdata0 = pd.read_csv('Species_Brep.txt',header=0,index_col=0,sep=\"\\t\")\n",
    "spdata = np.double(spdata0.values[:,1])\n",
    "\n",
    "kGsRead = pd.read_csv('OmicsData.txt',header=0,index_col=0,sep=\"\\t\")\n",
    "gExp_mpc = np.float64(kGsRead.values[:,0])\n",
    "mExp_mpc = np.float64(kGsRead.values[:,1])\n",
    "kGin = np.float64(kGsRead.values[:,2])\n",
    "kGac = np.float64(kGsRead.values[:,3])\n",
    "kTCleak = np.float64(kGsRead.values[:,4])\n",
    "kTCmaxs = np.float64(kGsRead.values[:,5])\n",
    "kTCd = np.float64(kGsRead.values[:,6])\n",
    "kmRNAs = kGsRead.values[:,7]\n",
    "\n",
    "# Read-in the activators matrix and assign concentrations of activators\n",
    "TAsRead = pd.read_csv('TAs.csv',header=0,index_col=0)\n",
    "TAs0 = np.float64(TAsRead.values)\n",
    "# Read-in the repressors matrix and assign concentrations of repressors\n",
    "TRsRead = pd.read_csv('TRs.csv',header=0,index_col=0)\n",
    "TRs0 = np.float64(TRsRead.values)"
   ]
  },
  {
   "cell_type": "code",
   "execution_count": null,
   "metadata": {},
   "outputs": [],
   "source": [
    "kRecs0 = pd.read_csv('Coop_params.txt',sep=\"\\t\") # The list of parameters, which should be set equal to zero, list obtained from the Bouhaddou2018 model\n",
    "kRecs = kRecs0.values[:,0]\n",
    "# kRecs"
   ]
  },
  {
   "cell_type": "code",
   "execution_count": null,
   "metadata": {},
   "outputs": [],
   "source": [
    "# prepare gene states\n",
    "genedata, GenePositionMatrix, AllGenesVec, xgac_mpc_D, xgin_mpc_D, xgac_mpc, xgin_mpc, kTCleak2 \\\n",
    "= gm_Prep(flagD, gExp_mpc, mExp_mpc, kGin, kGac, kTCleak, kTCmaxs, kTCd)"
   ]
  },
  {
   "cell_type": "code",
   "execution_count": null,
   "metadata": {},
   "outputs": [],
   "source": [
    "startTime = datetime.now()\n",
    "Vn = 1.75E-12 \n",
    "Vc = 5.25E-12\n",
    "\n",
    "ligInds = [155,156,157,158,159,160,161] # E, H, HGF, P, F, I, INS\n",
    "ligConc = [0.001,0.01,0.1,1,10,100,1000]\n",
    "ResInds = [162,166,167,170,171,172,173,174] # E1, E3, E4, Met, Pr, Fr, Ir, Isr\n",
    "RecConc = 60.8754593\n",
    "\n",
    "SPInds = np.arange(188,194)\n",
    "SPPInds = np.arange(194,214)\n",
    "SPSPInds = np.arange(214,225)\n",
    "\n",
    "conds = np.zeros(shape=(len(ligInds),len(ligConc)))\n",
    "# set everything off except lig-rec stuff\n",
    "for ii,kk in enumerate(kRecs): # see above for kRecs\n",
    "    model.setFixedParameterById(kk,0.0)\n",
    "\n",
    "# # set starting lig-rec species to zero - Non-zero in MCF10A context plots\n",
    "# RLsInds = np.arange(162,188)\n",
    "# spdata[RLsInds] = 0.0\n",
    "\n",
    "for count,lig in enumerate(ligInds):\n",
    "    for cnc in range(len(ligConc)):\n",
    "#         spdata[ResInds] = RecConc # Comment-out for 10A context\n",
    "        spdata2 = spdata.copy()\n",
    "        spdata2[lig] = ligConc[cnc]    \n",
    "        for qq in range(NSteps):\n",
    "            genedata,AllGenesVec = gm(flagD,ts,genedata,spdata2,Vn,Vc,kGin,kGac, \\\n",
    "                                       kTCmaxs,kTCleak,kTCd,AllGenesVec,GenePositionMatrix,TAs0,TRs0)\n",
    "            for ii,kk in enumerate(kmRNAs):\n",
    "                model.setFixedParameterById(kk,genedata[ii+282]*(1E9/(Vc*6.023E+23)))\n",
    "            model.setInitialStates(spdata2)\n",
    "            rdata = amici.runAmiciSimulation(model, solver)  # Run simulation\n",
    "            spdata2 = rdata['x'][-1,:]\n",
    "        ns_prod_sum = sum(rdata['x'][-1,SPInds]) + sum(rdata['x'][-1,SPPInds]) + 2.0*sum(rdata['x'][-1,SPSPInds])\n",
    "        conds[count,cnc] = ns_prod_sum\n",
    "    print(datetime.now() - startTime)\n",
    "print(datetime.now() - startTime)"
   ]
  },
  {
   "cell_type": "code",
   "execution_count": null,
   "metadata": {},
   "outputs": [],
   "source": [
    "condsDF = pd.DataFrame(data=conds,columns=[ele for ele in ligConc],index=[ele for ele in ligInds]) \n",
    "condsDF.to_csv('cooperativity_reproduce.txt',sep=\"\\t\")   "
   ]
  },
  {
   "cell_type": "code",
   "execution_count": null,
   "metadata": {},
   "outputs": [],
   "source": [
    "# script from https://stackoverflow.com/questions/55078451/how-to-use-curvefit-in-python (accessed on Jan16, 2020)\n",
    "from scipy.optimize import curve_fit\n",
    "import warnings\n",
    "\n",
    "# these are the same as the scipy defaults\n",
    "initialParameters = np.array([1.0, 1.0, 1.0])\n",
    "\n",
    "# do not print unnecessary warnings during curve_fit()\n",
    "warnings.filterwarnings(\"ignore\")\n",
    "\n",
    "def func(x, a, b, c): # Hill sigmoidal equation\n",
    "    return  a * np.power(x, b) / (np.power(c, b) + np.power(x, b)) \n",
    "\n",
    "Hillns = []\n",
    "for count,lig in enumerate(ligInds):\n",
    "    # curve fit the test data\n",
    "    fittedParameters, pcov = curve_fit(func, ligConc, conds[count,:], initialParameters)\n",
    "    Hillns.append(fittedParameters[1])\n",
    "    modelPredictions = func(ligConc, *fittedParameters) \n",
    "    absError = modelPredictions - conds[count,:]\n",
    "    SE = np.square(absError) # squared errors\n",
    "    MSE = np.mean(SE) # mean squared errors\n",
    "    RMSE = np.sqrt(MSE) # Root Mean Squared Error, RMSE\n",
    "    Rsquared = 1.0 - (np.var(absError) / np.var(conds[count,:]))\n",
    "\n",
    "    print('Parameters:', fittedParameters)\n",
    "    print('RMSE:', RMSE)\n",
    "    print('R-squared:', Rsquared)\n",
    "    print()\n",
    "print(Hillns)"
   ]
  }
 ],
 "metadata": {
  "kernelspec": {
   "display_name": "Python 3 (Spyder)",
   "language": "python3",
   "name": "python3"
  },
  "language_info": {
   "codemirror_mode": {
    "name": "ipython",
    "version": 3
   },
   "file_extension": ".py",
   "mimetype": "text/x-python",
   "name": "python",
   "nbconvert_exporter": "python",
   "pygments_lexer": "ipython3",
   "version": "3.7.5"
  }
 },
 "nbformat": 4,
 "nbformat_minor": 4
}
