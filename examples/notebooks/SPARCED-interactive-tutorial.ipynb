{
 "cells": [
  {
   "cell_type": "markdown",
   "id": "f08ea4c3-ffe8-440f-96b0-337673e2fd80",
   "metadata": {},
   "source": [
    "# SPARCED's Interactive Tutorial"
   ]
  },
  {
   "cell_type": "markdown",
   "id": "4743d739-abcc-4182-af12-052c5d2efae5",
   "metadata": {},
   "source": [
    "Start here if you are new to the SPARCED model.\n",
    "This tutorial covers both how to create and how to run a SPARCED model."
   ]
  },
  {
   "cell_type": "markdown",
   "id": "814869e7-77a3-4c42-bd09-8c5799553bd4",
   "metadata": {},
   "source": [
    "## (Optional) Place yourself into the correct folder"
   ]
  },
  {
   "cell_type": "markdown",
   "id": "0a613104-97a6-4193-8903-dacd4a4474d4",
   "metadata": {},
   "source": [
    "SPARCED is designed to be run from the ```SPARCED/src``` subfolder.\n",
    "If you want to run SPARCED from elsewhere (like in this tutorial), you will first need to add a path to that folder."
   ]
  },
  {
   "cell_type": "code",
   "execution_count": 1,
   "id": "bb08ce48-b387-435d-bc82-377d14df6569",
   "metadata": {},
   "outputs": [],
   "source": [
    "import os\n",
    "import sys\n",
    "sys.path.insert(0, os.path.abspath(\"../../SPARCED/src\"))"
   ]
  },
  {
   "cell_type": "markdown",
   "id": "26a6631b-780d-45cf-9dc5-195a6dfd1580",
   "metadata": {},
   "source": [
    "# 0 - Imports"
   ]
  },
  {
   "cell_type": "markdown",
   "id": "f6060f36-3b64-4751-bea0-7259df00a047",
   "metadata": {},
   "source": [
    "It is a good practice to add the imports at the beginning of your script or notebook."
   ]
  },
  {
   "cell_type": "code",
   "execution_count": 2,
   "id": "c3190d5e-16a5-4f52-8f95-37b81856d8cc",
   "metadata": {},
   "outputs": [],
   "source": [
    "# Step 1: model creation\n",
    "from compilation.create_model import *\n",
    "# Step 2: model simulation\n",
    "from simulation.utils.ligands import *\n",
    "from simulation.run_model import *"
   ]
  },
  {
   "cell_type": "markdown",
   "id": "61986548-5af7-460d-8c13-1de4b8b0b376",
   "metadata": {},
   "source": [
    "## 1 - Model creation"
   ]
  },
  {
   "cell_type": "markdown",
   "id": "b61b8851-d164-48f5-b05e-d96b7bb4bc91",
   "metadata": {},
   "source": [
    "The model creation pipeline works as follow:\n",
    "  1. Some TSV (tab separated values) **input files** are read to generate an Antimony model.\n",
    "  2. Next, this **Antimony model** is converted into SBML format.\n",
    "  3. Finally, the **SBML model** is compiled into an AMICI model\n",
    "SPARCED can only run if an **AMICI model** was generated.\n",
    "\n",
    "_NB: Although it is possible to run SPARCED starting from an Antimony or an SBML file, in this tutorial will only cover how to create a SPARCED model from the input files._"
   ]
  },
  {
   "cell_type": "code",
   "execution_count": 3,
   "id": "95f4045b-4641-42f8-9ac1-b84a7975f728",
   "metadata": {},
   "outputs": [
    {
     "name": "stdout",
     "output_type": "stream",
     "text": [
      "SPARCED: Success loading Antimony file\n",
      "SPARCED: Success converting Antimony file to SBML\n"
     ]
    },
    {
     "name": "stderr",
     "output_type": "stream",
     "text": [
      "2024-04-29 12:11:48.994 - amici.sbml_import - INFO - Finished gathering local SBML symbols        + (8.89E+00s)\n",
      "2024-04-29 12:11:49.205 - amici.sbml_import - INFO - Finished processing SBML parameters          + (2.01E-01s)\n",
      "2024-04-29 12:11:49.213 - amici.sbml_import - INFO - Finished processing SBML compartments        + (6.71E-04s)\n",
      "2024-04-29 12:11:50.657 - amici.sbml_import - INFO - Finished processing SBML species initials   ++ (1.36E+00s)\n",
      "2024-04-29 12:11:50.665 - amici.sbml_import - INFO - Finished processing SBML rate rules         ++ (3.17E-05s)\n",
      "2024-04-29 12:11:50.666 - amici.sbml_import - INFO - Finished processing SBML species             + (1.44E+00s)\n",
      "2024-04-29 12:11:51.835 - amici.sbml_import - INFO - Finished processing SBML reactions           + (1.16E+00s)\n",
      "2024-04-29 12:11:53.267 - amici.sbml_import - INFO - Finished processing SBML rules               + (1.42E+00s)\n",
      "2024-04-29 12:11:53.275 - amici.sbml_import - INFO - Finished processing SBML initial assignments + (4.00E-05s)\n",
      "2024-04-29 12:11:53.806 - amici.sbml_import - INFO - Finished processing SBML species references  + (5.24E-01s)\n",
      "2024-04-29 12:11:53.807 - amici.sbml_import - INFO - Finished importing SBML                        (1.37E+01s)\n",
      "2024-04-29 12:12:05.754 - amici.sbml_import - INFO - Finished processing SBML observables           (1.19E+01s)\n",
      "2024-04-29 12:14:20.474 - amici.ode_export - INFO - Finished running smart_multiply               + (2.16E+00s)\n",
      "2024-04-29 12:14:53.288 - amici.ode_export - INFO - Finished importing SbmlImporter                 (3.51E+01s)\n",
      "2024-04-29 12:15:10.961 - amici.ode_export - INFO - Finished simplifying Jy                     +++ (1.76E+01s)\n",
      "2024-04-29 12:15:10.962 - amici.ode_export - INFO - Finished computing Jy                        ++ (1.76E+01s)\n",
      "2024-04-29 12:15:20.366 - amici.ode_export - INFO - Finished writing Jy.cpp                       + (2.71E+01s)\n",
      "2024-04-29 12:17:13.055 - amici.ode_export - INFO - Finished running smart_jacobian             +++ (1.13E+02s)\n",
      "2024-04-29 12:17:29.265 - amici.ode_export - INFO - Finished simplifying dJydsigmay             +++ (1.62E+01s)\n",
      "2024-04-29 12:17:29.266 - amici.ode_export - INFO - Finished computing dJydsigmay                ++ (1.29E+02s)\n",
      "2024-04-29 12:17:40.892 - amici.ode_export - INFO - Finished writing dJydsigmay.cpp               + (1.41E+02s)\n",
      "2024-04-29 12:19:07.882 - amici.ode_export - INFO - Finished running smart_jacobian             +++ (8.70E+01s)\n",
      "2024-04-29 12:19:25.247 - amici.ode_export - INFO - Finished simplifying dJydy                  +++ (1.74E+01s)\n",
      "2024-04-29 12:19:25.249 - amici.ode_export - INFO - Finished computing dJydy                     ++ (1.04E+02s)\n",
      "2024-04-29 12:19:32.058 - amici.ode_export - INFO - Finished writing dJydy.cpp                    + (1.11E+02s)\n",
      "2024-04-29 12:19:32.246 - amici.ode_export - INFO - Finished simplifying root                   +++ (6.32E-05s)\n",
      "2024-04-29 12:19:32.247 - amici.ode_export - INFO - Finished computing root                      ++ (7.54E-03s)\n",
      "2024-04-29 12:19:32.248 - amici.ode_export - INFO - Finished writing root.cpp                     + (1.42E-02s)\n",
      "2024-04-29 12:19:36.171 - amici.ode_export - INFO - Finished simplifying w                    +++++ (3.87E+00s)\n",
      "2024-04-29 12:19:36.172 - amici.ode_export - INFO - Finished computing w                       ++++ (3.89E+00s)\n",
      "2024-04-29 12:24:56.215 - amici.ode_export - INFO - Finished running smart_jacobian            ++++ (3.20E+02s)\n",
      "2024-04-29 12:25:50.614 - amici.ode_export - INFO - Finished simplifying dwdp                  ++++ (5.44E+01s)\n",
      "2024-04-29 12:25:50.620 - amici.ode_export - INFO - Finished computing dwdp                     +++ (3.78E+02s)\n",
      "2024-04-29 12:26:05.422 - amici.ode_export - INFO - Finished running smart_jacobian            ++++ (1.48E+01s)\n",
      "2024-04-29 12:26:08.466 - amici.ode_export - INFO - Finished simplifying dwdtcl                ++++ (3.03E+00s)\n",
      "2024-04-29 12:26:08.466 - amici.ode_export - INFO - Finished computing dwdtcl                   +++ (1.78E+01s)\n",
      "2024-04-29 12:27:04.316 - amici.ode_export - INFO - Finished simplifying dwdp                   +++ (5.44E+01s)\n",
      "2024-04-29 12:27:04.320 - amici.ode_export - INFO - Finished computing dwdp                      ++ (4.52E+02s)\n",
      "2024-04-29 12:27:27.898 - amici.ode_export - INFO - Finished writing dwdp.cpp                     + (4.76E+02s)\n",
      "2024-04-29 12:28:59.116 - amici.ode_export - INFO - Finished running smart_jacobian             +++ (9.12E+01s)\n",
      "2024-04-29 12:29:17.829 - amici.ode_export - INFO - Finished simplifying dwdx                   +++ (1.87E+01s)\n",
      "2024-04-29 12:29:17.834 - amici.ode_export - INFO - Finished computing dwdx                      ++ (1.10E+02s)\n",
      "2024-04-29 12:29:27.440 - amici.ode_export - INFO - Finished writing dwdx.cpp                     + (1.20E+02s)\n",
      "2024-04-29 12:34:25.306 - amici.ode_export - INFO - Finished running smart_jacobian             +++ (2.98E+02s)\n",
      "2024-04-29 12:38:44.569 - amici.ode_export - INFO - Finished simplifying dwdw                   +++ (4.85E+01s)\n",
      "2024-04-29 12:38:44.571 - amici.ode_export - INFO - Finished computing dwdw                      ++ (5.57E+02s)\n",
      "2024-04-29 12:39:03.700 - amici.ode_export - INFO - Finished writing dwdw.cpp                     + (5.76E+02s)\n",
      "2024-04-29 12:39:06.671 - amici.ode_export - INFO - Finished simplifying xdot                   +++ (2.94E+00s)\n",
      "2024-04-29 12:39:06.672 - amici.ode_export - INFO - Finished computing xdot                      ++ (2.96E+00s)\n",
      "2024-04-29 12:39:17.266 - amici.ode_export - INFO - Finished writing dxdotdw.cpp                  + (1.36E+01s)\n",
      "2024-04-29 12:39:17.321 - amici.ode_export - INFO - Finished running smart_jacobian             +++ (3.09E-02s)\n",
      "2024-04-29 12:39:22.510 - amici.ode_export - INFO - Finished simplifying dxdotdx_explicit       +++ (5.18E+00s)\n",
      "2024-04-29 12:39:22.510 - amici.ode_export - INFO - Finished computing dxdotdx_explicit          ++ (5.23E+00s)\n",
      "2024-04-29 12:39:24.764 - amici.ode_export - INFO - Finished writing dxdotdx_explicit.cpp         + (7.49E+00s)\n",
      "2024-04-29 12:39:24.823 - amici.ode_export - INFO - Finished running smart_jacobian             +++ (3.75E-02s)\n",
      "2024-04-29 12:39:42.830 - amici.ode_export - INFO - Finished simplifying dxdotdp_explicit       +++ (1.80E+01s)\n",
      "2024-04-29 12:39:42.831 - amici.ode_export - INFO - Finished computing dxdotdp_explicit          ++ (1.81E+01s)\n",
      "2024-04-29 12:39:50.742 - amici.ode_export - INFO - Finished writing dxdotdp_explicit.cpp         + (2.60E+01s)\n",
      "2024-04-29 12:39:50.792 - amici.ode_export - INFO - Finished simplifying y                    +++++ (7.20E-03s)\n",
      "2024-04-29 12:39:50.793 - amici.ode_export - INFO - Finished computing y                       ++++ (2.17E-02s)\n",
      "2024-04-29 12:40:14.376 - amici.ode_export - INFO - Finished running smart_jacobian            ++++ (2.36E+01s)\n",
      "2024-04-29 12:40:20.509 - amici.ode_export - INFO - Finished simplifying dydx                  ++++ (6.12E+00s)\n",
      "2024-04-29 12:40:20.510 - amici.ode_export - INFO - Finished computing dydx                     +++ (2.97E+01s)\n",
      "2024-04-29 12:41:56.748 - amici.ode_export - INFO - Finished running smart_jacobian            ++++ (9.62E+01s)\n",
      "2024-04-29 12:41:57.648 - amici.ode_export - INFO - Finished running smart_multiply            ++++ (5.83E-01s)\n",
      "2024-04-29 12:42:17.864 - amici.ode_export - INFO - Finished simplifying dydw                  ++++ (1.98E+01s)\n",
      "2024-04-29 12:42:17.864 - amici.ode_export - INFO - Finished computing dydw                     +++ (1.17E+02s)\n",
      "2024-04-29 12:42:19.445 - amici.ode_export - INFO - Finished running smart_multiply             +++ (1.23E+00s)\n",
      "2024-04-29 12:42:24.534 - amici.ode_export - INFO - Finished simplifying dydx                   +++ (5.08E+00s)\n",
      "2024-04-29 12:42:24.535 - amici.ode_export - INFO - Finished computing dydx                      ++ (1.54E+02s)\n",
      "2024-04-29 12:42:28.926 - amici.ode_export - INFO - Finished writing dydx.cpp                     + (1.58E+02s)\n",
      "2024-04-29 12:42:28.972 - amici.ode_export - INFO - Finished running smart_jacobian            ++++ (1.72E-02s)\n",
      "2024-04-29 12:42:51.419 - amici.ode_export - INFO - Finished simplifying dydp                  ++++ (2.24E+01s)\n",
      "2024-04-29 12:42:51.420 - amici.ode_export - INFO - Finished computing dydp                     +++ (2.25E+01s)\n",
      "2024-04-29 12:42:52.856 - amici.ode_export - INFO - Finished running smart_multiply             +++ (9.45E-01s)\n",
      "2024-04-29 12:43:11.642 - amici.ode_export - INFO - Finished simplifying dydp                   +++ (1.88E+01s)\n",
      "2024-04-29 12:43:11.643 - amici.ode_export - INFO - Finished computing dydp                      ++ (4.27E+01s)\n",
      "2024-04-29 12:43:13.690 - amici.ode_export - INFO - Finished writing dydp.cpp                     + (4.48E+01s)\n",
      "2024-04-29 12:43:13.745 - amici.ode_export - INFO - Finished simplifying sigmay                ++++ (1.31E-02s)\n",
      "2024-04-29 12:43:13.746 - amici.ode_export - INFO - Finished computing sigmay                   +++ (3.13E-02s)\n",
      "2024-04-29 12:43:13.777 - amici.ode_export - INFO - Finished running smart_jacobian             +++ (2.08E-02s)\n",
      "2024-04-29 12:43:35.960 - amici.ode_export - INFO - Finished simplifying dsigmaydp              +++ (2.22E+01s)\n",
      "2024-04-29 12:43:35.961 - amici.ode_export - INFO - Finished computing dsigmaydp                 ++ (2.23E+01s)\n",
      "2024-04-29 12:43:37.926 - amici.ode_export - INFO - Finished writing dsigmaydp.cpp                + (2.42E+01s)\n",
      "2024-04-29 12:43:38.744 - amici.ode_export - INFO - Finished writing sigmay.cpp                   + (7.95E-01s)\n",
      "2024-04-29 12:43:38.770 - amici.ode_export - INFO - Finished computing stau                      ++ (1.31E-04s)\n",
      "2024-04-29 12:43:38.772 - amici.ode_export - INFO - Finished writing stau.cpp                     + (1.24E-02s)\n",
      "2024-04-29 12:43:38.806 - amici.ode_export - INFO - Finished computing deltasx                   ++ (1.59E-04s)\n",
      "2024-04-29 12:43:38.807 - amici.ode_export - INFO - Finished writing deltasx.cpp                  + (2.07E-02s)\n",
      "2024-04-29 12:43:40.968 - amici.ode_export - INFO - Finished writing w.cpp                        + (2.14E+00s)\n",
      "2024-04-29 12:43:41.009 - amici.ode_export - INFO - Finished simplifying x0                     +++ (1.08E-02s)\n",
      "2024-04-29 12:43:41.011 - amici.ode_export - INFO - Finished computing x0                        ++ (2.77E-02s)\n",
      "2024-04-29 12:43:41.310 - amici.ode_export - INFO - Finished writing x0.cpp                       + (3.34E-01s)\n",
      "2024-04-29 12:43:41.339 - amici.ode_export - INFO - Finished simplifying x0_fixedParameters     +++ (7.55E-05s)\n",
      "2024-04-29 12:43:41.340 - amici.ode_export - INFO - Finished computing x0_fixedParameters        ++ (1.34E-02s)\n",
      "2024-04-29 12:43:41.341 - amici.ode_export - INFO - Finished writing x0_fixedParameters.cpp       + (2.15E-02s)\n",
      "2024-04-29 12:43:41.392 - amici.ode_export - INFO - Finished running smart_jacobian             +++ (2.64E-02s)\n",
      "2024-04-29 12:44:12.858 - amici.ode_export - INFO - Finished simplifying sx0                    +++ (3.15E+01s)\n",
      "2024-04-29 12:44:12.859 - amici.ode_export - INFO - Finished computing sx0                       ++ (3.15E+01s)\n",
      "2024-04-29 12:44:15.123 - amici.ode_export - INFO - Finished writing sx0.cpp                      + (3.38E+01s)\n",
      "2024-04-29 12:44:15.152 - amici.ode_export - INFO - Finished running smart_jacobian             +++ (4.29E-05s)\n",
      "2024-04-29 12:44:15.171 - amici.ode_export - INFO - Finished running smart_jacobian             +++ (4.18E-05s)\n",
      "2024-04-29 12:44:15.191 - amici.ode_export - INFO - Finished simplifying sx0_fixedParameters    +++ (8.65E-05s)\n",
      "2024-04-29 12:44:15.194 - amici.ode_export - INFO - Finished computing sx0_fixedParameters       ++ (4.90E-02s)\n",
      "2024-04-29 12:44:15.196 - amici.ode_export - INFO - Finished writing sx0_fixedParameters.cpp      + (5.87E-02s)\n",
      "2024-04-29 12:44:18.452 - amici.ode_export - INFO - Finished writing xdot.cpp                     + (3.23E+00s)\n",
      "2024-04-29 12:44:18.663 - amici.ode_export - INFO - Finished writing y.cpp                        + (2.01E-01s)\n",
      "2024-04-29 12:44:18.706 - amici.ode_export - INFO - Finished simplifying x_rdata                +++ (8.24E-03s)\n",
      "2024-04-29 12:44:18.707 - amici.ode_export - INFO - Finished computing x_rdata                   ++ (2.45E-02s)\n",
      "2024-04-29 12:44:18.918 - amici.ode_export - INFO - Finished writing x_rdata.cpp                  + (2.44E-01s)\n",
      "2024-04-29 12:44:18.949 - amici.ode_export - INFO - Finished simplifying total_cl               +++ (1.08E-03s)\n",
      "2024-04-29 12:44:18.949 - amici.ode_export - INFO - Finished computing total_cl                  ++ (9.56E-03s)\n",
      "2024-04-29 12:44:18.982 - amici.ode_export - INFO - Finished writing total_cl.cpp                 + (4.92E-02s)\n",
      "2024-04-29 12:44:19.015 - amici.ode_export - INFO - Finished simplifying x_solver               +++ (6.45E-03s)\n",
      "2024-04-29 12:44:19.016 - amici.ode_export - INFO - Finished computing x_solver                  ++ (1.98E-02s)\n",
      "2024-04-29 12:44:19.276 - amici.ode_export - INFO - Finished writing x_solver.cpp                 + (2.86E-01s)\n",
      "2024-04-29 12:44:26.040 - amici.ode_export - INFO - Finished generating cpp code                    (1.77E+03s)\n",
      "2024-04-29 12:45:54.231 - amici.ode_export - INFO - Finished compiling cpp code                     (8.82E+01s)\n"
     ]
    },
    {
     "name": "stdout",
     "output_type": "stream",
     "text": [
      "running build_ext\n",
      "Changed extra_compile_args for unix to ['-fopenmp', '-std=c++14']\n",
      "building 'SPARCED._SPARCED' extension\n",
      "Testing SWIG executable swig4.0... SUCCEEDED.\n",
      "swigging swig/SPARCED.i to swig/SPARCED_wrap.cpp\n",
      "swig4.0 -python -c++ -modern -outdir SPARCED -I/home/chocolatecharlie/anaconda3/envs/sparced/lib/python3.12/site-packages/amici/swig -I/home/chocolatecharlie/anaconda3/envs/sparced/lib/python3.12/site-packages/amici/include -o swig/SPARCED_wrap.cpp swig/SPARCED.i\n",
      "Deprecated command line option: -modern. This option is now always on.\n",
      "gcc -pthread -B /home/chocolatecharlie/anaconda3/envs/sparced/compiler_compat -fno-strict-overflow -DNDEBUG -O2 -Wall -fPIC -O2 -isystem /home/chocolatecharlie/anaconda3/envs/sparced/include -fPIC -O2 -isystem /home/chocolatecharlie/anaconda3/envs/sparced/include -fPIC -I/home/chocolatecharlie/Documents/SPARCED/SPARCED/models/SPARCED-tutorial/amici_SPARCED -I/home/chocolatecharlie/anaconda3/envs/sparced/lib/python3.12/site-packages/amici/include -I/home/chocolatecharlie/anaconda3/envs/sparced/lib/python3.12/site-packages/amici/ThirdParty/gsl -I/home/chocolatecharlie/anaconda3/envs/sparced/lib/python3.12/site-packages/amici/ThirdParty/sundials/include -I/home/chocolatecharlie/anaconda3/envs/sparced/lib/python3.12/site-packages/amici/ThirdParty/SuiteSparse/include -I/home/chocolatecharlie/anaconda3/envs/sparced/include/python3.12 -c SPARCED.cpp -o build/temp.linux-x86_64-cpython-312/SPARCED.o -fopenmp -std=c++14\n",
      "gcc -pthread -B /home/chocolatecharlie/anaconda3/envs/sparced/compiler_compat -fno-strict-overflow -DNDEBUG -O2 -Wall -fPIC -O2 -isystem /home/chocolatecharlie/anaconda3/envs/sparced/include -fPIC -O2 -isystem /home/chocolatecharlie/anaconda3/envs/sparced/include -fPIC -I/home/chocolatecharlie/Documents/SPARCED/SPARCED/models/SPARCED-tutorial/amici_SPARCED -I/home/chocolatecharlie/anaconda3/envs/sparced/lib/python3.12/site-packages/amici/include -I/home/chocolatecharlie/anaconda3/envs/sparced/lib/python3.12/site-packages/amici/ThirdParty/gsl -I/home/chocolatecharlie/anaconda3/envs/sparced/lib/python3.12/site-packages/amici/ThirdParty/sundials/include -I/home/chocolatecharlie/anaconda3/envs/sparced/lib/python3.12/site-packages/amici/ThirdParty/SuiteSparse/include -I/home/chocolatecharlie/anaconda3/envs/sparced/include/python3.12 -c SPARCED_Jy.cpp -o build/temp.linux-x86_64-cpython-312/SPARCED_Jy.o -fopenmp -std=c++14\n",
      "gcc -pthread -B /home/chocolatecharlie/anaconda3/envs/sparced/compiler_compat -fno-strict-overflow -DNDEBUG -O2 -Wall -fPIC -O2 -isystem /home/chocolatecharlie/anaconda3/envs/sparced/include -fPIC -O2 -isystem /home/chocolatecharlie/anaconda3/envs/sparced/include -fPIC -I/home/chocolatecharlie/Documents/SPARCED/SPARCED/models/SPARCED-tutorial/amici_SPARCED -I/home/chocolatecharlie/anaconda3/envs/sparced/lib/python3.12/site-packages/amici/include -I/home/chocolatecharlie/anaconda3/envs/sparced/lib/python3.12/site-packages/amici/ThirdParty/gsl -I/home/chocolatecharlie/anaconda3/envs/sparced/lib/python3.12/site-packages/amici/ThirdParty/sundials/include -I/home/chocolatecharlie/anaconda3/envs/sparced/lib/python3.12/site-packages/amici/ThirdParty/SuiteSparse/include -I/home/chocolatecharlie/anaconda3/envs/sparced/include/python3.12 -c SPARCED_dJydsigmay.cpp -o build/temp.linux-x86_64-cpython-312/SPARCED_dJydsigmay.o -fopenmp -std=c++14\n",
      "gcc -pthread -B /home/chocolatecharlie/anaconda3/envs/sparced/compiler_compat -fno-strict-overflow -DNDEBUG -O2 -Wall -fPIC -O2 -isystem /home/chocolatecharlie/anaconda3/envs/sparced/include -fPIC -O2 -isystem /home/chocolatecharlie/anaconda3/envs/sparced/include -fPIC -I/home/chocolatecharlie/Documents/SPARCED/SPARCED/models/SPARCED-tutorial/amici_SPARCED -I/home/chocolatecharlie/anaconda3/envs/sparced/lib/python3.12/site-packages/amici/include -I/home/chocolatecharlie/anaconda3/envs/sparced/lib/python3.12/site-packages/amici/ThirdParty/gsl -I/home/chocolatecharlie/anaconda3/envs/sparced/lib/python3.12/site-packages/amici/ThirdParty/sundials/include -I/home/chocolatecharlie/anaconda3/envs/sparced/lib/python3.12/site-packages/amici/ThirdParty/SuiteSparse/include -I/home/chocolatecharlie/anaconda3/envs/sparced/include/python3.12 -c SPARCED_dJydy.cpp -o build/temp.linux-x86_64-cpython-312/SPARCED_dJydy.o -fopenmp -std=c++14\n",
      "gcc -pthread -B /home/chocolatecharlie/anaconda3/envs/sparced/compiler_compat -fno-strict-overflow -DNDEBUG -O2 -Wall -fPIC -O2 -isystem /home/chocolatecharlie/anaconda3/envs/sparced/include -fPIC -O2 -isystem /home/chocolatecharlie/anaconda3/envs/sparced/include -fPIC -I/home/chocolatecharlie/Documents/SPARCED/SPARCED/models/SPARCED-tutorial/amici_SPARCED -I/home/chocolatecharlie/anaconda3/envs/sparced/lib/python3.12/site-packages/amici/include -I/home/chocolatecharlie/anaconda3/envs/sparced/lib/python3.12/site-packages/amici/ThirdParty/gsl -I/home/chocolatecharlie/anaconda3/envs/sparced/lib/python3.12/site-packages/amici/ThirdParty/sundials/include -I/home/chocolatecharlie/anaconda3/envs/sparced/lib/python3.12/site-packages/amici/ThirdParty/SuiteSparse/include -I/home/chocolatecharlie/anaconda3/envs/sparced/include/python3.12 -c SPARCED_dJydy_colptrs.cpp -o build/temp.linux-x86_64-cpython-312/SPARCED_dJydy_colptrs.o -fopenmp -std=c++14\n",
      "gcc -pthread -B /home/chocolatecharlie/anaconda3/envs/sparced/compiler_compat -fno-strict-overflow -DNDEBUG -O2 -Wall -fPIC -O2 -isystem /home/chocolatecharlie/anaconda3/envs/sparced/include -fPIC -O2 -isystem /home/chocolatecharlie/anaconda3/envs/sparced/include -fPIC -I/home/chocolatecharlie/Documents/SPARCED/SPARCED/models/SPARCED-tutorial/amici_SPARCED -I/home/chocolatecharlie/anaconda3/envs/sparced/lib/python3.12/site-packages/amici/include -I/home/chocolatecharlie/anaconda3/envs/sparced/lib/python3.12/site-packages/amici/ThirdParty/gsl -I/home/chocolatecharlie/anaconda3/envs/sparced/lib/python3.12/site-packages/amici/ThirdParty/sundials/include -I/home/chocolatecharlie/anaconda3/envs/sparced/lib/python3.12/site-packages/amici/ThirdParty/SuiteSparse/include -I/home/chocolatecharlie/anaconda3/envs/sparced/include/python3.12 -c SPARCED_dJydy_rowvals.cpp -o build/temp.linux-x86_64-cpython-312/SPARCED_dJydy_rowvals.o -fopenmp -std=c++14\n",
      "gcc -pthread -B /home/chocolatecharlie/anaconda3/envs/sparced/compiler_compat -fno-strict-overflow -DNDEBUG -O2 -Wall -fPIC -O2 -isystem /home/chocolatecharlie/anaconda3/envs/sparced/include -fPIC -O2 -isystem /home/chocolatecharlie/anaconda3/envs/sparced/include -fPIC -I/home/chocolatecharlie/Documents/SPARCED/SPARCED/models/SPARCED-tutorial/amici_SPARCED -I/home/chocolatecharlie/anaconda3/envs/sparced/lib/python3.12/site-packages/amici/include -I/home/chocolatecharlie/anaconda3/envs/sparced/lib/python3.12/site-packages/amici/ThirdParty/gsl -I/home/chocolatecharlie/anaconda3/envs/sparced/lib/python3.12/site-packages/amici/ThirdParty/sundials/include -I/home/chocolatecharlie/anaconda3/envs/sparced/lib/python3.12/site-packages/amici/ThirdParty/SuiteSparse/include -I/home/chocolatecharlie/anaconda3/envs/sparced/include/python3.12 -c SPARCED_deltasx.cpp -o build/temp.linux-x86_64-cpython-312/SPARCED_deltasx.o -fopenmp -std=c++14\n",
      "gcc -pthread -B /home/chocolatecharlie/anaconda3/envs/sparced/compiler_compat -fno-strict-overflow -DNDEBUG -O2 -Wall -fPIC -O2 -isystem /home/chocolatecharlie/anaconda3/envs/sparced/include -fPIC -O2 -isystem /home/chocolatecharlie/anaconda3/envs/sparced/include -fPIC -I/home/chocolatecharlie/Documents/SPARCED/SPARCED/models/SPARCED-tutorial/amici_SPARCED -I/home/chocolatecharlie/anaconda3/envs/sparced/lib/python3.12/site-packages/amici/include -I/home/chocolatecharlie/anaconda3/envs/sparced/lib/python3.12/site-packages/amici/ThirdParty/gsl -I/home/chocolatecharlie/anaconda3/envs/sparced/lib/python3.12/site-packages/amici/ThirdParty/sundials/include -I/home/chocolatecharlie/anaconda3/envs/sparced/lib/python3.12/site-packages/amici/ThirdParty/SuiteSparse/include -I/home/chocolatecharlie/anaconda3/envs/sparced/include/python3.12 -c SPARCED_dsigmaydp.cpp -o build/temp.linux-x86_64-cpython-312/SPARCED_dsigmaydp.o -fopenmp -std=c++14\n",
      "gcc -pthread -B /home/chocolatecharlie/anaconda3/envs/sparced/compiler_compat -fno-strict-overflow -DNDEBUG -O2 -Wall -fPIC -O2 -isystem /home/chocolatecharlie/anaconda3/envs/sparced/include -fPIC -O2 -isystem /home/chocolatecharlie/anaconda3/envs/sparced/include -fPIC -I/home/chocolatecharlie/Documents/SPARCED/SPARCED/models/SPARCED-tutorial/amici_SPARCED -I/home/chocolatecharlie/anaconda3/envs/sparced/lib/python3.12/site-packages/amici/include -I/home/chocolatecharlie/anaconda3/envs/sparced/lib/python3.12/site-packages/amici/ThirdParty/gsl -I/home/chocolatecharlie/anaconda3/envs/sparced/lib/python3.12/site-packages/amici/ThirdParty/sundials/include -I/home/chocolatecharlie/anaconda3/envs/sparced/lib/python3.12/site-packages/amici/ThirdParty/SuiteSparse/include -I/home/chocolatecharlie/anaconda3/envs/sparced/include/python3.12 -c SPARCED_dwdp.cpp -o build/temp.linux-x86_64-cpython-312/SPARCED_dwdp.o -fopenmp -std=c++14\n",
      "gcc -pthread -B /home/chocolatecharlie/anaconda3/envs/sparced/compiler_compat -fno-strict-overflow -DNDEBUG -O2 -Wall -fPIC -O2 -isystem /home/chocolatecharlie/anaconda3/envs/sparced/include -fPIC -O2 -isystem /home/chocolatecharlie/anaconda3/envs/sparced/include -fPIC -I/home/chocolatecharlie/Documents/SPARCED/SPARCED/models/SPARCED-tutorial/amici_SPARCED -I/home/chocolatecharlie/anaconda3/envs/sparced/lib/python3.12/site-packages/amici/include -I/home/chocolatecharlie/anaconda3/envs/sparced/lib/python3.12/site-packages/amici/ThirdParty/gsl -I/home/chocolatecharlie/anaconda3/envs/sparced/lib/python3.12/site-packages/amici/ThirdParty/sundials/include -I/home/chocolatecharlie/anaconda3/envs/sparced/lib/python3.12/site-packages/amici/ThirdParty/SuiteSparse/include -I/home/chocolatecharlie/anaconda3/envs/sparced/include/python3.12 -c SPARCED_dwdp_colptrs.cpp -o build/temp.linux-x86_64-cpython-312/SPARCED_dwdp_colptrs.o -fopenmp -std=c++14\n",
      "gcc -pthread -B /home/chocolatecharlie/anaconda3/envs/sparced/compiler_compat -fno-strict-overflow -DNDEBUG -O2 -Wall -fPIC -O2 -isystem /home/chocolatecharlie/anaconda3/envs/sparced/include -fPIC -O2 -isystem /home/chocolatecharlie/anaconda3/envs/sparced/include -fPIC -I/home/chocolatecharlie/Documents/SPARCED/SPARCED/models/SPARCED-tutorial/amici_SPARCED -I/home/chocolatecharlie/anaconda3/envs/sparced/lib/python3.12/site-packages/amici/include -I/home/chocolatecharlie/anaconda3/envs/sparced/lib/python3.12/site-packages/amici/ThirdParty/gsl -I/home/chocolatecharlie/anaconda3/envs/sparced/lib/python3.12/site-packages/amici/ThirdParty/sundials/include -I/home/chocolatecharlie/anaconda3/envs/sparced/lib/python3.12/site-packages/amici/ThirdParty/SuiteSparse/include -I/home/chocolatecharlie/anaconda3/envs/sparced/include/python3.12 -c SPARCED_dwdp_rowvals.cpp -o build/temp.linux-x86_64-cpython-312/SPARCED_dwdp_rowvals.o -fopenmp -std=c++14\n",
      "gcc -pthread -B /home/chocolatecharlie/anaconda3/envs/sparced/compiler_compat -fno-strict-overflow -DNDEBUG -O2 -Wall -fPIC -O2 -isystem /home/chocolatecharlie/anaconda3/envs/sparced/include -fPIC -O2 -isystem /home/chocolatecharlie/anaconda3/envs/sparced/include -fPIC -I/home/chocolatecharlie/Documents/SPARCED/SPARCED/models/SPARCED-tutorial/amici_SPARCED -I/home/chocolatecharlie/anaconda3/envs/sparced/lib/python3.12/site-packages/amici/include -I/home/chocolatecharlie/anaconda3/envs/sparced/lib/python3.12/site-packages/amici/ThirdParty/gsl -I/home/chocolatecharlie/anaconda3/envs/sparced/lib/python3.12/site-packages/amici/ThirdParty/sundials/include -I/home/chocolatecharlie/anaconda3/envs/sparced/lib/python3.12/site-packages/amici/ThirdParty/SuiteSparse/include -I/home/chocolatecharlie/anaconda3/envs/sparced/include/python3.12 -c SPARCED_dwdw.cpp -o build/temp.linux-x86_64-cpython-312/SPARCED_dwdw.o -fopenmp -std=c++14\n",
      "gcc -pthread -B /home/chocolatecharlie/anaconda3/envs/sparced/compiler_compat -fno-strict-overflow -DNDEBUG -O2 -Wall -fPIC -O2 -isystem /home/chocolatecharlie/anaconda3/envs/sparced/include -fPIC -O2 -isystem /home/chocolatecharlie/anaconda3/envs/sparced/include -fPIC -I/home/chocolatecharlie/Documents/SPARCED/SPARCED/models/SPARCED-tutorial/amici_SPARCED -I/home/chocolatecharlie/anaconda3/envs/sparced/lib/python3.12/site-packages/amici/include -I/home/chocolatecharlie/anaconda3/envs/sparced/lib/python3.12/site-packages/amici/ThirdParty/gsl -I/home/chocolatecharlie/anaconda3/envs/sparced/lib/python3.12/site-packages/amici/ThirdParty/sundials/include -I/home/chocolatecharlie/anaconda3/envs/sparced/lib/python3.12/site-packages/amici/ThirdParty/SuiteSparse/include -I/home/chocolatecharlie/anaconda3/envs/sparced/include/python3.12 -c SPARCED_dwdw_colptrs.cpp -o build/temp.linux-x86_64-cpython-312/SPARCED_dwdw_colptrs.o -fopenmp -std=c++14\n",
      "gcc -pthread -B /home/chocolatecharlie/anaconda3/envs/sparced/compiler_compat -fno-strict-overflow -DNDEBUG -O2 -Wall -fPIC -O2 -isystem /home/chocolatecharlie/anaconda3/envs/sparced/include -fPIC -O2 -isystem /home/chocolatecharlie/anaconda3/envs/sparced/include -fPIC -I/home/chocolatecharlie/Documents/SPARCED/SPARCED/models/SPARCED-tutorial/amici_SPARCED -I/home/chocolatecharlie/anaconda3/envs/sparced/lib/python3.12/site-packages/amici/include -I/home/chocolatecharlie/anaconda3/envs/sparced/lib/python3.12/site-packages/amici/ThirdParty/gsl -I/home/chocolatecharlie/anaconda3/envs/sparced/lib/python3.12/site-packages/amici/ThirdParty/sundials/include -I/home/chocolatecharlie/anaconda3/envs/sparced/lib/python3.12/site-packages/amici/ThirdParty/SuiteSparse/include -I/home/chocolatecharlie/anaconda3/envs/sparced/include/python3.12 -c SPARCED_dwdw_rowvals.cpp -o build/temp.linux-x86_64-cpython-312/SPARCED_dwdw_rowvals.o -fopenmp -std=c++14\n",
      "gcc -pthread -B /home/chocolatecharlie/anaconda3/envs/sparced/compiler_compat -fno-strict-overflow -DNDEBUG -O2 -Wall -fPIC -O2 -isystem /home/chocolatecharlie/anaconda3/envs/sparced/include -fPIC -O2 -isystem /home/chocolatecharlie/anaconda3/envs/sparced/include -fPIC -I/home/chocolatecharlie/Documents/SPARCED/SPARCED/models/SPARCED-tutorial/amici_SPARCED -I/home/chocolatecharlie/anaconda3/envs/sparced/lib/python3.12/site-packages/amici/include -I/home/chocolatecharlie/anaconda3/envs/sparced/lib/python3.12/site-packages/amici/ThirdParty/gsl -I/home/chocolatecharlie/anaconda3/envs/sparced/lib/python3.12/site-packages/amici/ThirdParty/sundials/include -I/home/chocolatecharlie/anaconda3/envs/sparced/lib/python3.12/site-packages/amici/ThirdParty/SuiteSparse/include -I/home/chocolatecharlie/anaconda3/envs/sparced/include/python3.12 -c SPARCED_dwdx.cpp -o build/temp.linux-x86_64-cpython-312/SPARCED_dwdx.o -fopenmp -std=c++14\n",
      "gcc -pthread -B /home/chocolatecharlie/anaconda3/envs/sparced/compiler_compat -fno-strict-overflow -DNDEBUG -O2 -Wall -fPIC -O2 -isystem /home/chocolatecharlie/anaconda3/envs/sparced/include -fPIC -O2 -isystem /home/chocolatecharlie/anaconda3/envs/sparced/include -fPIC -I/home/chocolatecharlie/Documents/SPARCED/SPARCED/models/SPARCED-tutorial/amici_SPARCED -I/home/chocolatecharlie/anaconda3/envs/sparced/lib/python3.12/site-packages/amici/include -I/home/chocolatecharlie/anaconda3/envs/sparced/lib/python3.12/site-packages/amici/ThirdParty/gsl -I/home/chocolatecharlie/anaconda3/envs/sparced/lib/python3.12/site-packages/amici/ThirdParty/sundials/include -I/home/chocolatecharlie/anaconda3/envs/sparced/lib/python3.12/site-packages/amici/ThirdParty/SuiteSparse/include -I/home/chocolatecharlie/anaconda3/envs/sparced/include/python3.12 -c SPARCED_dwdx_colptrs.cpp -o build/temp.linux-x86_64-cpython-312/SPARCED_dwdx_colptrs.o -fopenmp -std=c++14\n",
      "gcc -pthread -B /home/chocolatecharlie/anaconda3/envs/sparced/compiler_compat -fno-strict-overflow -DNDEBUG -O2 -Wall -fPIC -O2 -isystem /home/chocolatecharlie/anaconda3/envs/sparced/include -fPIC -O2 -isystem /home/chocolatecharlie/anaconda3/envs/sparced/include -fPIC -I/home/chocolatecharlie/Documents/SPARCED/SPARCED/models/SPARCED-tutorial/amici_SPARCED -I/home/chocolatecharlie/anaconda3/envs/sparced/lib/python3.12/site-packages/amici/include -I/home/chocolatecharlie/anaconda3/envs/sparced/lib/python3.12/site-packages/amici/ThirdParty/gsl -I/home/chocolatecharlie/anaconda3/envs/sparced/lib/python3.12/site-packages/amici/ThirdParty/sundials/include -I/home/chocolatecharlie/anaconda3/envs/sparced/lib/python3.12/site-packages/amici/ThirdParty/SuiteSparse/include -I/home/chocolatecharlie/anaconda3/envs/sparced/include/python3.12 -c SPARCED_dwdx_rowvals.cpp -o build/temp.linux-x86_64-cpython-312/SPARCED_dwdx_rowvals.o -fopenmp -std=c++14\n",
      "gcc -pthread -B /home/chocolatecharlie/anaconda3/envs/sparced/compiler_compat -fno-strict-overflow -DNDEBUG -O2 -Wall -fPIC -O2 -isystem /home/chocolatecharlie/anaconda3/envs/sparced/include -fPIC -O2 -isystem /home/chocolatecharlie/anaconda3/envs/sparced/include -fPIC -I/home/chocolatecharlie/Documents/SPARCED/SPARCED/models/SPARCED-tutorial/amici_SPARCED -I/home/chocolatecharlie/anaconda3/envs/sparced/lib/python3.12/site-packages/amici/include -I/home/chocolatecharlie/anaconda3/envs/sparced/lib/python3.12/site-packages/amici/ThirdParty/gsl -I/home/chocolatecharlie/anaconda3/envs/sparced/lib/python3.12/site-packages/amici/ThirdParty/sundials/include -I/home/chocolatecharlie/anaconda3/envs/sparced/lib/python3.12/site-packages/amici/ThirdParty/SuiteSparse/include -I/home/chocolatecharlie/anaconda3/envs/sparced/include/python3.12 -c SPARCED_dxdotdp_explicit.cpp -o build/temp.linux-x86_64-cpython-312/SPARCED_dxdotdp_explicit.o -fopenmp -std=c++14\n",
      "gcc -pthread -B /home/chocolatecharlie/anaconda3/envs/sparced/compiler_compat -fno-strict-overflow -DNDEBUG -O2 -Wall -fPIC -O2 -isystem /home/chocolatecharlie/anaconda3/envs/sparced/include -fPIC -O2 -isystem /home/chocolatecharlie/anaconda3/envs/sparced/include -fPIC -I/home/chocolatecharlie/Documents/SPARCED/SPARCED/models/SPARCED-tutorial/amici_SPARCED -I/home/chocolatecharlie/anaconda3/envs/sparced/lib/python3.12/site-packages/amici/include -I/home/chocolatecharlie/anaconda3/envs/sparced/lib/python3.12/site-packages/amici/ThirdParty/gsl -I/home/chocolatecharlie/anaconda3/envs/sparced/lib/python3.12/site-packages/amici/ThirdParty/sundials/include -I/home/chocolatecharlie/anaconda3/envs/sparced/lib/python3.12/site-packages/amici/ThirdParty/SuiteSparse/include -I/home/chocolatecharlie/anaconda3/envs/sparced/include/python3.12 -c SPARCED_dxdotdp_explicit_colptrs.cpp -o build/temp.linux-x86_64-cpython-312/SPARCED_dxdotdp_explicit_colptrs.o -fopenmp -std=c++14\n",
      "gcc -pthread -B /home/chocolatecharlie/anaconda3/envs/sparced/compiler_compat -fno-strict-overflow -DNDEBUG -O2 -Wall -fPIC -O2 -isystem /home/chocolatecharlie/anaconda3/envs/sparced/include -fPIC -O2 -isystem /home/chocolatecharlie/anaconda3/envs/sparced/include -fPIC -I/home/chocolatecharlie/Documents/SPARCED/SPARCED/models/SPARCED-tutorial/amici_SPARCED -I/home/chocolatecharlie/anaconda3/envs/sparced/lib/python3.12/site-packages/amici/include -I/home/chocolatecharlie/anaconda3/envs/sparced/lib/python3.12/site-packages/amici/ThirdParty/gsl -I/home/chocolatecharlie/anaconda3/envs/sparced/lib/python3.12/site-packages/amici/ThirdParty/sundials/include -I/home/chocolatecharlie/anaconda3/envs/sparced/lib/python3.12/site-packages/amici/ThirdParty/SuiteSparse/include -I/home/chocolatecharlie/anaconda3/envs/sparced/include/python3.12 -c SPARCED_dxdotdp_explicit_rowvals.cpp -o build/temp.linux-x86_64-cpython-312/SPARCED_dxdotdp_explicit_rowvals.o -fopenmp -std=c++14\n",
      "gcc -pthread -B /home/chocolatecharlie/anaconda3/envs/sparced/compiler_compat -fno-strict-overflow -DNDEBUG -O2 -Wall -fPIC -O2 -isystem /home/chocolatecharlie/anaconda3/envs/sparced/include -fPIC -O2 -isystem /home/chocolatecharlie/anaconda3/envs/sparced/include -fPIC -I/home/chocolatecharlie/Documents/SPARCED/SPARCED/models/SPARCED-tutorial/amici_SPARCED -I/home/chocolatecharlie/anaconda3/envs/sparced/lib/python3.12/site-packages/amici/include -I/home/chocolatecharlie/anaconda3/envs/sparced/lib/python3.12/site-packages/amici/ThirdParty/gsl -I/home/chocolatecharlie/anaconda3/envs/sparced/lib/python3.12/site-packages/amici/ThirdParty/sundials/include -I/home/chocolatecharlie/anaconda3/envs/sparced/lib/python3.12/site-packages/amici/ThirdParty/SuiteSparse/include -I/home/chocolatecharlie/anaconda3/envs/sparced/include/python3.12 -c SPARCED_dxdotdw.cpp -o build/temp.linux-x86_64-cpython-312/SPARCED_dxdotdw.o -fopenmp -std=c++14\n",
      "gcc -pthread -B /home/chocolatecharlie/anaconda3/envs/sparced/compiler_compat -fno-strict-overflow -DNDEBUG -O2 -Wall -fPIC -O2 -isystem /home/chocolatecharlie/anaconda3/envs/sparced/include -fPIC -O2 -isystem /home/chocolatecharlie/anaconda3/envs/sparced/include -fPIC -I/home/chocolatecharlie/Documents/SPARCED/SPARCED/models/SPARCED-tutorial/amici_SPARCED -I/home/chocolatecharlie/anaconda3/envs/sparced/lib/python3.12/site-packages/amici/include -I/home/chocolatecharlie/anaconda3/envs/sparced/lib/python3.12/site-packages/amici/ThirdParty/gsl -I/home/chocolatecharlie/anaconda3/envs/sparced/lib/python3.12/site-packages/amici/ThirdParty/sundials/include -I/home/chocolatecharlie/anaconda3/envs/sparced/lib/python3.12/site-packages/amici/ThirdParty/SuiteSparse/include -I/home/chocolatecharlie/anaconda3/envs/sparced/include/python3.12 -c SPARCED_dxdotdw_colptrs.cpp -o build/temp.linux-x86_64-cpython-312/SPARCED_dxdotdw_colptrs.o -fopenmp -std=c++14\n",
      "gcc -pthread -B /home/chocolatecharlie/anaconda3/envs/sparced/compiler_compat -fno-strict-overflow -DNDEBUG -O2 -Wall -fPIC -O2 -isystem /home/chocolatecharlie/anaconda3/envs/sparced/include -fPIC -O2 -isystem /home/chocolatecharlie/anaconda3/envs/sparced/include -fPIC -I/home/chocolatecharlie/Documents/SPARCED/SPARCED/models/SPARCED-tutorial/amici_SPARCED -I/home/chocolatecharlie/anaconda3/envs/sparced/lib/python3.12/site-packages/amici/include -I/home/chocolatecharlie/anaconda3/envs/sparced/lib/python3.12/site-packages/amici/ThirdParty/gsl -I/home/chocolatecharlie/anaconda3/envs/sparced/lib/python3.12/site-packages/amici/ThirdParty/sundials/include -I/home/chocolatecharlie/anaconda3/envs/sparced/lib/python3.12/site-packages/amici/ThirdParty/SuiteSparse/include -I/home/chocolatecharlie/anaconda3/envs/sparced/include/python3.12 -c SPARCED_dxdotdw_rowvals.cpp -o build/temp.linux-x86_64-cpython-312/SPARCED_dxdotdw_rowvals.o -fopenmp -std=c++14\n",
      "gcc -pthread -B /home/chocolatecharlie/anaconda3/envs/sparced/compiler_compat -fno-strict-overflow -DNDEBUG -O2 -Wall -fPIC -O2 -isystem /home/chocolatecharlie/anaconda3/envs/sparced/include -fPIC -O2 -isystem /home/chocolatecharlie/anaconda3/envs/sparced/include -fPIC -I/home/chocolatecharlie/Documents/SPARCED/SPARCED/models/SPARCED-tutorial/amici_SPARCED -I/home/chocolatecharlie/anaconda3/envs/sparced/lib/python3.12/site-packages/amici/include -I/home/chocolatecharlie/anaconda3/envs/sparced/lib/python3.12/site-packages/amici/ThirdParty/gsl -I/home/chocolatecharlie/anaconda3/envs/sparced/lib/python3.12/site-packages/amici/ThirdParty/sundials/include -I/home/chocolatecharlie/anaconda3/envs/sparced/lib/python3.12/site-packages/amici/ThirdParty/SuiteSparse/include -I/home/chocolatecharlie/anaconda3/envs/sparced/include/python3.12 -c SPARCED_dxdotdx_explicit.cpp -o build/temp.linux-x86_64-cpython-312/SPARCED_dxdotdx_explicit.o -fopenmp -std=c++14\n",
      "gcc -pthread -B /home/chocolatecharlie/anaconda3/envs/sparced/compiler_compat -fno-strict-overflow -DNDEBUG -O2 -Wall -fPIC -O2 -isystem /home/chocolatecharlie/anaconda3/envs/sparced/include -fPIC -O2 -isystem /home/chocolatecharlie/anaconda3/envs/sparced/include -fPIC -I/home/chocolatecharlie/Documents/SPARCED/SPARCED/models/SPARCED-tutorial/amici_SPARCED -I/home/chocolatecharlie/anaconda3/envs/sparced/lib/python3.12/site-packages/amici/include -I/home/chocolatecharlie/anaconda3/envs/sparced/lib/python3.12/site-packages/amici/ThirdParty/gsl -I/home/chocolatecharlie/anaconda3/envs/sparced/lib/python3.12/site-packages/amici/ThirdParty/sundials/include -I/home/chocolatecharlie/anaconda3/envs/sparced/lib/python3.12/site-packages/amici/ThirdParty/SuiteSparse/include -I/home/chocolatecharlie/anaconda3/envs/sparced/include/python3.12 -c SPARCED_dxdotdx_explicit_colptrs.cpp -o build/temp.linux-x86_64-cpython-312/SPARCED_dxdotdx_explicit_colptrs.o -fopenmp -std=c++14\n",
      "gcc -pthread -B /home/chocolatecharlie/anaconda3/envs/sparced/compiler_compat -fno-strict-overflow -DNDEBUG -O2 -Wall -fPIC -O2 -isystem /home/chocolatecharlie/anaconda3/envs/sparced/include -fPIC -O2 -isystem /home/chocolatecharlie/anaconda3/envs/sparced/include -fPIC -I/home/chocolatecharlie/Documents/SPARCED/SPARCED/models/SPARCED-tutorial/amici_SPARCED -I/home/chocolatecharlie/anaconda3/envs/sparced/lib/python3.12/site-packages/amici/include -I/home/chocolatecharlie/anaconda3/envs/sparced/lib/python3.12/site-packages/amici/ThirdParty/gsl -I/home/chocolatecharlie/anaconda3/envs/sparced/lib/python3.12/site-packages/amici/ThirdParty/sundials/include -I/home/chocolatecharlie/anaconda3/envs/sparced/lib/python3.12/site-packages/amici/ThirdParty/SuiteSparse/include -I/home/chocolatecharlie/anaconda3/envs/sparced/include/python3.12 -c SPARCED_dxdotdx_explicit_rowvals.cpp -o build/temp.linux-x86_64-cpython-312/SPARCED_dxdotdx_explicit_rowvals.o -fopenmp -std=c++14\n",
      "gcc -pthread -B /home/chocolatecharlie/anaconda3/envs/sparced/compiler_compat -fno-strict-overflow -DNDEBUG -O2 -Wall -fPIC -O2 -isystem /home/chocolatecharlie/anaconda3/envs/sparced/include -fPIC -O2 -isystem /home/chocolatecharlie/anaconda3/envs/sparced/include -fPIC -I/home/chocolatecharlie/Documents/SPARCED/SPARCED/models/SPARCED-tutorial/amici_SPARCED -I/home/chocolatecharlie/anaconda3/envs/sparced/lib/python3.12/site-packages/amici/include -I/home/chocolatecharlie/anaconda3/envs/sparced/lib/python3.12/site-packages/amici/ThirdParty/gsl -I/home/chocolatecharlie/anaconda3/envs/sparced/lib/python3.12/site-packages/amici/ThirdParty/sundials/include -I/home/chocolatecharlie/anaconda3/envs/sparced/lib/python3.12/site-packages/amici/ThirdParty/SuiteSparse/include -I/home/chocolatecharlie/anaconda3/envs/sparced/include/python3.12 -c SPARCED_dydp.cpp -o build/temp.linux-x86_64-cpython-312/SPARCED_dydp.o -fopenmp -std=c++14\n",
      "gcc -pthread -B /home/chocolatecharlie/anaconda3/envs/sparced/compiler_compat -fno-strict-overflow -DNDEBUG -O2 -Wall -fPIC -O2 -isystem /home/chocolatecharlie/anaconda3/envs/sparced/include -fPIC -O2 -isystem /home/chocolatecharlie/anaconda3/envs/sparced/include -fPIC -I/home/chocolatecharlie/Documents/SPARCED/SPARCED/models/SPARCED-tutorial/amici_SPARCED -I/home/chocolatecharlie/anaconda3/envs/sparced/lib/python3.12/site-packages/amici/include -I/home/chocolatecharlie/anaconda3/envs/sparced/lib/python3.12/site-packages/amici/ThirdParty/gsl -I/home/chocolatecharlie/anaconda3/envs/sparced/lib/python3.12/site-packages/amici/ThirdParty/sundials/include -I/home/chocolatecharlie/anaconda3/envs/sparced/lib/python3.12/site-packages/amici/ThirdParty/SuiteSparse/include -I/home/chocolatecharlie/anaconda3/envs/sparced/include/python3.12 -c SPARCED_dydx.cpp -o build/temp.linux-x86_64-cpython-312/SPARCED_dydx.o -fopenmp -std=c++14\n",
      "gcc -pthread -B /home/chocolatecharlie/anaconda3/envs/sparced/compiler_compat -fno-strict-overflow -DNDEBUG -O2 -Wall -fPIC -O2 -isystem /home/chocolatecharlie/anaconda3/envs/sparced/include -fPIC -O2 -isystem /home/chocolatecharlie/anaconda3/envs/sparced/include -fPIC -I/home/chocolatecharlie/Documents/SPARCED/SPARCED/models/SPARCED-tutorial/amici_SPARCED -I/home/chocolatecharlie/anaconda3/envs/sparced/lib/python3.12/site-packages/amici/include -I/home/chocolatecharlie/anaconda3/envs/sparced/lib/python3.12/site-packages/amici/ThirdParty/gsl -I/home/chocolatecharlie/anaconda3/envs/sparced/lib/python3.12/site-packages/amici/ThirdParty/sundials/include -I/home/chocolatecharlie/anaconda3/envs/sparced/lib/python3.12/site-packages/amici/ThirdParty/SuiteSparse/include -I/home/chocolatecharlie/anaconda3/envs/sparced/include/python3.12 -c SPARCED_root.cpp -o build/temp.linux-x86_64-cpython-312/SPARCED_root.o -fopenmp -std=c++14\n",
      "gcc -pthread -B /home/chocolatecharlie/anaconda3/envs/sparced/compiler_compat -fno-strict-overflow -DNDEBUG -O2 -Wall -fPIC -O2 -isystem /home/chocolatecharlie/anaconda3/envs/sparced/include -fPIC -O2 -isystem /home/chocolatecharlie/anaconda3/envs/sparced/include -fPIC -I/home/chocolatecharlie/Documents/SPARCED/SPARCED/models/SPARCED-tutorial/amici_SPARCED -I/home/chocolatecharlie/anaconda3/envs/sparced/lib/python3.12/site-packages/amici/include -I/home/chocolatecharlie/anaconda3/envs/sparced/lib/python3.12/site-packages/amici/ThirdParty/gsl -I/home/chocolatecharlie/anaconda3/envs/sparced/lib/python3.12/site-packages/amici/ThirdParty/sundials/include -I/home/chocolatecharlie/anaconda3/envs/sparced/lib/python3.12/site-packages/amici/ThirdParty/SuiteSparse/include -I/home/chocolatecharlie/anaconda3/envs/sparced/include/python3.12 -c SPARCED_sigmay.cpp -o build/temp.linux-x86_64-cpython-312/SPARCED_sigmay.o -fopenmp -std=c++14\n",
      "gcc -pthread -B /home/chocolatecharlie/anaconda3/envs/sparced/compiler_compat -fno-strict-overflow -DNDEBUG -O2 -Wall -fPIC -O2 -isystem /home/chocolatecharlie/anaconda3/envs/sparced/include -fPIC -O2 -isystem /home/chocolatecharlie/anaconda3/envs/sparced/include -fPIC -I/home/chocolatecharlie/Documents/SPARCED/SPARCED/models/SPARCED-tutorial/amici_SPARCED -I/home/chocolatecharlie/anaconda3/envs/sparced/lib/python3.12/site-packages/amici/include -I/home/chocolatecharlie/anaconda3/envs/sparced/lib/python3.12/site-packages/amici/ThirdParty/gsl -I/home/chocolatecharlie/anaconda3/envs/sparced/lib/python3.12/site-packages/amici/ThirdParty/sundials/include -I/home/chocolatecharlie/anaconda3/envs/sparced/lib/python3.12/site-packages/amici/ThirdParty/SuiteSparse/include -I/home/chocolatecharlie/anaconda3/envs/sparced/include/python3.12 -c SPARCED_stau.cpp -o build/temp.linux-x86_64-cpython-312/SPARCED_stau.o -fopenmp -std=c++14\n",
      "gcc -pthread -B /home/chocolatecharlie/anaconda3/envs/sparced/compiler_compat -fno-strict-overflow -DNDEBUG -O2 -Wall -fPIC -O2 -isystem /home/chocolatecharlie/anaconda3/envs/sparced/include -fPIC -O2 -isystem /home/chocolatecharlie/anaconda3/envs/sparced/include -fPIC -I/home/chocolatecharlie/Documents/SPARCED/SPARCED/models/SPARCED-tutorial/amici_SPARCED -I/home/chocolatecharlie/anaconda3/envs/sparced/lib/python3.12/site-packages/amici/include -I/home/chocolatecharlie/anaconda3/envs/sparced/lib/python3.12/site-packages/amici/ThirdParty/gsl -I/home/chocolatecharlie/anaconda3/envs/sparced/lib/python3.12/site-packages/amici/ThirdParty/sundials/include -I/home/chocolatecharlie/anaconda3/envs/sparced/lib/python3.12/site-packages/amici/ThirdParty/SuiteSparse/include -I/home/chocolatecharlie/anaconda3/envs/sparced/include/python3.12 -c SPARCED_sx0.cpp -o build/temp.linux-x86_64-cpython-312/SPARCED_sx0.o -fopenmp -std=c++14\n",
      "gcc -pthread -B /home/chocolatecharlie/anaconda3/envs/sparced/compiler_compat -fno-strict-overflow -DNDEBUG -O2 -Wall -fPIC -O2 -isystem /home/chocolatecharlie/anaconda3/envs/sparced/include -fPIC -O2 -isystem /home/chocolatecharlie/anaconda3/envs/sparced/include -fPIC -I/home/chocolatecharlie/Documents/SPARCED/SPARCED/models/SPARCED-tutorial/amici_SPARCED -I/home/chocolatecharlie/anaconda3/envs/sparced/lib/python3.12/site-packages/amici/include -I/home/chocolatecharlie/anaconda3/envs/sparced/lib/python3.12/site-packages/amici/ThirdParty/gsl -I/home/chocolatecharlie/anaconda3/envs/sparced/lib/python3.12/site-packages/amici/ThirdParty/sundials/include -I/home/chocolatecharlie/anaconda3/envs/sparced/lib/python3.12/site-packages/amici/ThirdParty/SuiteSparse/include -I/home/chocolatecharlie/anaconda3/envs/sparced/include/python3.12 -c SPARCED_sx0_fixedParameters.cpp -o build/temp.linux-x86_64-cpython-312/SPARCED_sx0_fixedParameters.o -fopenmp -std=c++14\n",
      "gcc -pthread -B /home/chocolatecharlie/anaconda3/envs/sparced/compiler_compat -fno-strict-overflow -DNDEBUG -O2 -Wall -fPIC -O2 -isystem /home/chocolatecharlie/anaconda3/envs/sparced/include -fPIC -O2 -isystem /home/chocolatecharlie/anaconda3/envs/sparced/include -fPIC -I/home/chocolatecharlie/Documents/SPARCED/SPARCED/models/SPARCED-tutorial/amici_SPARCED -I/home/chocolatecharlie/anaconda3/envs/sparced/lib/python3.12/site-packages/amici/include -I/home/chocolatecharlie/anaconda3/envs/sparced/lib/python3.12/site-packages/amici/ThirdParty/gsl -I/home/chocolatecharlie/anaconda3/envs/sparced/lib/python3.12/site-packages/amici/ThirdParty/sundials/include -I/home/chocolatecharlie/anaconda3/envs/sparced/lib/python3.12/site-packages/amici/ThirdParty/SuiteSparse/include -I/home/chocolatecharlie/anaconda3/envs/sparced/include/python3.12 -c SPARCED_total_cl.cpp -o build/temp.linux-x86_64-cpython-312/SPARCED_total_cl.o -fopenmp -std=c++14\n",
      "gcc -pthread -B /home/chocolatecharlie/anaconda3/envs/sparced/compiler_compat -fno-strict-overflow -DNDEBUG -O2 -Wall -fPIC -O2 -isystem /home/chocolatecharlie/anaconda3/envs/sparced/include -fPIC -O2 -isystem /home/chocolatecharlie/anaconda3/envs/sparced/include -fPIC -I/home/chocolatecharlie/Documents/SPARCED/SPARCED/models/SPARCED-tutorial/amici_SPARCED -I/home/chocolatecharlie/anaconda3/envs/sparced/lib/python3.12/site-packages/amici/include -I/home/chocolatecharlie/anaconda3/envs/sparced/lib/python3.12/site-packages/amici/ThirdParty/gsl -I/home/chocolatecharlie/anaconda3/envs/sparced/lib/python3.12/site-packages/amici/ThirdParty/sundials/include -I/home/chocolatecharlie/anaconda3/envs/sparced/lib/python3.12/site-packages/amici/ThirdParty/SuiteSparse/include -I/home/chocolatecharlie/anaconda3/envs/sparced/include/python3.12 -c SPARCED_w.cpp -o build/temp.linux-x86_64-cpython-312/SPARCED_w.o -fopenmp -std=c++14\n",
      "gcc -pthread -B /home/chocolatecharlie/anaconda3/envs/sparced/compiler_compat -fno-strict-overflow -DNDEBUG -O2 -Wall -fPIC -O2 -isystem /home/chocolatecharlie/anaconda3/envs/sparced/include -fPIC -O2 -isystem /home/chocolatecharlie/anaconda3/envs/sparced/include -fPIC -I/home/chocolatecharlie/Documents/SPARCED/SPARCED/models/SPARCED-tutorial/amici_SPARCED -I/home/chocolatecharlie/anaconda3/envs/sparced/lib/python3.12/site-packages/amici/include -I/home/chocolatecharlie/anaconda3/envs/sparced/lib/python3.12/site-packages/amici/ThirdParty/gsl -I/home/chocolatecharlie/anaconda3/envs/sparced/lib/python3.12/site-packages/amici/ThirdParty/sundials/include -I/home/chocolatecharlie/anaconda3/envs/sparced/lib/python3.12/site-packages/amici/ThirdParty/SuiteSparse/include -I/home/chocolatecharlie/anaconda3/envs/sparced/include/python3.12 -c SPARCED_x0.cpp -o build/temp.linux-x86_64-cpython-312/SPARCED_x0.o -fopenmp -std=c++14\n",
      "gcc -pthread -B /home/chocolatecharlie/anaconda3/envs/sparced/compiler_compat -fno-strict-overflow -DNDEBUG -O2 -Wall -fPIC -O2 -isystem /home/chocolatecharlie/anaconda3/envs/sparced/include -fPIC -O2 -isystem /home/chocolatecharlie/anaconda3/envs/sparced/include -fPIC -I/home/chocolatecharlie/Documents/SPARCED/SPARCED/models/SPARCED-tutorial/amici_SPARCED -I/home/chocolatecharlie/anaconda3/envs/sparced/lib/python3.12/site-packages/amici/include -I/home/chocolatecharlie/anaconda3/envs/sparced/lib/python3.12/site-packages/amici/ThirdParty/gsl -I/home/chocolatecharlie/anaconda3/envs/sparced/lib/python3.12/site-packages/amici/ThirdParty/sundials/include -I/home/chocolatecharlie/anaconda3/envs/sparced/lib/python3.12/site-packages/amici/ThirdParty/SuiteSparse/include -I/home/chocolatecharlie/anaconda3/envs/sparced/include/python3.12 -c SPARCED_x0_fixedParameters.cpp -o build/temp.linux-x86_64-cpython-312/SPARCED_x0_fixedParameters.o -fopenmp -std=c++14\n",
      "gcc -pthread -B /home/chocolatecharlie/anaconda3/envs/sparced/compiler_compat -fno-strict-overflow -DNDEBUG -O2 -Wall -fPIC -O2 -isystem /home/chocolatecharlie/anaconda3/envs/sparced/include -fPIC -O2 -isystem /home/chocolatecharlie/anaconda3/envs/sparced/include -fPIC -I/home/chocolatecharlie/Documents/SPARCED/SPARCED/models/SPARCED-tutorial/amici_SPARCED -I/home/chocolatecharlie/anaconda3/envs/sparced/lib/python3.12/site-packages/amici/include -I/home/chocolatecharlie/anaconda3/envs/sparced/lib/python3.12/site-packages/amici/ThirdParty/gsl -I/home/chocolatecharlie/anaconda3/envs/sparced/lib/python3.12/site-packages/amici/ThirdParty/sundials/include -I/home/chocolatecharlie/anaconda3/envs/sparced/lib/python3.12/site-packages/amici/ThirdParty/SuiteSparse/include -I/home/chocolatecharlie/anaconda3/envs/sparced/include/python3.12 -c SPARCED_x_rdata.cpp -o build/temp.linux-x86_64-cpython-312/SPARCED_x_rdata.o -fopenmp -std=c++14\n",
      "gcc -pthread -B /home/chocolatecharlie/anaconda3/envs/sparced/compiler_compat -fno-strict-overflow -DNDEBUG -O2 -Wall -fPIC -O2 -isystem /home/chocolatecharlie/anaconda3/envs/sparced/include -fPIC -O2 -isystem /home/chocolatecharlie/anaconda3/envs/sparced/include -fPIC -I/home/chocolatecharlie/Documents/SPARCED/SPARCED/models/SPARCED-tutorial/amici_SPARCED -I/home/chocolatecharlie/anaconda3/envs/sparced/lib/python3.12/site-packages/amici/include -I/home/chocolatecharlie/anaconda3/envs/sparced/lib/python3.12/site-packages/amici/ThirdParty/gsl -I/home/chocolatecharlie/anaconda3/envs/sparced/lib/python3.12/site-packages/amici/ThirdParty/sundials/include -I/home/chocolatecharlie/anaconda3/envs/sparced/lib/python3.12/site-packages/amici/ThirdParty/SuiteSparse/include -I/home/chocolatecharlie/anaconda3/envs/sparced/include/python3.12 -c SPARCED_x_solver.cpp -o build/temp.linux-x86_64-cpython-312/SPARCED_x_solver.o -fopenmp -std=c++14\n",
      "gcc -pthread -B /home/chocolatecharlie/anaconda3/envs/sparced/compiler_compat -fno-strict-overflow -DNDEBUG -O2 -Wall -fPIC -O2 -isystem /home/chocolatecharlie/anaconda3/envs/sparced/include -fPIC -O2 -isystem /home/chocolatecharlie/anaconda3/envs/sparced/include -fPIC -I/home/chocolatecharlie/Documents/SPARCED/SPARCED/models/SPARCED-tutorial/amici_SPARCED -I/home/chocolatecharlie/anaconda3/envs/sparced/lib/python3.12/site-packages/amici/include -I/home/chocolatecharlie/anaconda3/envs/sparced/lib/python3.12/site-packages/amici/ThirdParty/gsl -I/home/chocolatecharlie/anaconda3/envs/sparced/lib/python3.12/site-packages/amici/ThirdParty/sundials/include -I/home/chocolatecharlie/anaconda3/envs/sparced/lib/python3.12/site-packages/amici/ThirdParty/SuiteSparse/include -I/home/chocolatecharlie/anaconda3/envs/sparced/include/python3.12 -c SPARCED_xdot.cpp -o build/temp.linux-x86_64-cpython-312/SPARCED_xdot.o -fopenmp -std=c++14\n",
      "gcc -pthread -B /home/chocolatecharlie/anaconda3/envs/sparced/compiler_compat -fno-strict-overflow -DNDEBUG -O2 -Wall -fPIC -O2 -isystem /home/chocolatecharlie/anaconda3/envs/sparced/include -fPIC -O2 -isystem /home/chocolatecharlie/anaconda3/envs/sparced/include -fPIC -I/home/chocolatecharlie/Documents/SPARCED/SPARCED/models/SPARCED-tutorial/amici_SPARCED -I/home/chocolatecharlie/anaconda3/envs/sparced/lib/python3.12/site-packages/amici/include -I/home/chocolatecharlie/anaconda3/envs/sparced/lib/python3.12/site-packages/amici/ThirdParty/gsl -I/home/chocolatecharlie/anaconda3/envs/sparced/lib/python3.12/site-packages/amici/ThirdParty/sundials/include -I/home/chocolatecharlie/anaconda3/envs/sparced/lib/python3.12/site-packages/amici/ThirdParty/SuiteSparse/include -I/home/chocolatecharlie/anaconda3/envs/sparced/include/python3.12 -c SPARCED_y.cpp -o build/temp.linux-x86_64-cpython-312/SPARCED_y.o -fopenmp -std=c++14\n",
      "gcc -pthread -B /home/chocolatecharlie/anaconda3/envs/sparced/compiler_compat -fno-strict-overflow -DNDEBUG -O2 -Wall -fPIC -O2 -isystem /home/chocolatecharlie/anaconda3/envs/sparced/include -fPIC -O2 -isystem /home/chocolatecharlie/anaconda3/envs/sparced/include -fPIC -I/home/chocolatecharlie/Documents/SPARCED/SPARCED/models/SPARCED-tutorial/amici_SPARCED -I/home/chocolatecharlie/anaconda3/envs/sparced/lib/python3.12/site-packages/amici/include -I/home/chocolatecharlie/anaconda3/envs/sparced/lib/python3.12/site-packages/amici/ThirdParty/gsl -I/home/chocolatecharlie/anaconda3/envs/sparced/lib/python3.12/site-packages/amici/ThirdParty/sundials/include -I/home/chocolatecharlie/anaconda3/envs/sparced/lib/python3.12/site-packages/amici/ThirdParty/SuiteSparse/include -I/home/chocolatecharlie/anaconda3/envs/sparced/include/python3.12 -c swig/SPARCED_wrap.cpp -o build/temp.linux-x86_64-cpython-312/swig/SPARCED_wrap.o -fopenmp -std=c++14\n",
      "gcc -pthread -B /home/chocolatecharlie/anaconda3/envs/sparced/compiler_compat -fno-strict-overflow -DNDEBUG -O2 -Wall -fPIC -O2 -isystem /home/chocolatecharlie/anaconda3/envs/sparced/include -fPIC -O2 -isystem /home/chocolatecharlie/anaconda3/envs/sparced/include -fPIC -I/home/chocolatecharlie/Documents/SPARCED/SPARCED/models/SPARCED-tutorial/amici_SPARCED -I/home/chocolatecharlie/anaconda3/envs/sparced/lib/python3.12/site-packages/amici/include -I/home/chocolatecharlie/anaconda3/envs/sparced/lib/python3.12/site-packages/amici/ThirdParty/gsl -I/home/chocolatecharlie/anaconda3/envs/sparced/lib/python3.12/site-packages/amici/ThirdParty/sundials/include -I/home/chocolatecharlie/anaconda3/envs/sparced/lib/python3.12/site-packages/amici/ThirdParty/SuiteSparse/include -I/home/chocolatecharlie/anaconda3/envs/sparced/include/python3.12 -c wrapfunctions.cpp -o build/temp.linux-x86_64-cpython-312/wrapfunctions.o -fopenmp -std=c++14\n",
      "g++ -pthread -B /home/chocolatecharlie/anaconda3/envs/sparced/compiler_compat -shared -Wl,-rpath,/home/chocolatecharlie/anaconda3/envs/sparced/lib -Wl,-rpath-link,/home/chocolatecharlie/anaconda3/envs/sparced/lib -L/home/chocolatecharlie/anaconda3/envs/sparced/lib -Wl,-rpath,/home/chocolatecharlie/anaconda3/envs/sparced/lib -Wl,-rpath-link,/home/chocolatecharlie/anaconda3/envs/sparced/lib -L/home/chocolatecharlie/anaconda3/envs/sparced/lib build/temp.linux-x86_64-cpython-312/SPARCED.o build/temp.linux-x86_64-cpython-312/SPARCED_Jy.o build/temp.linux-x86_64-cpython-312/SPARCED_dJydsigmay.o build/temp.linux-x86_64-cpython-312/SPARCED_dJydy.o build/temp.linux-x86_64-cpython-312/SPARCED_dJydy_colptrs.o build/temp.linux-x86_64-cpython-312/SPARCED_dJydy_rowvals.o build/temp.linux-x86_64-cpython-312/SPARCED_deltasx.o build/temp.linux-x86_64-cpython-312/SPARCED_dsigmaydp.o build/temp.linux-x86_64-cpython-312/SPARCED_dwdp.o build/temp.linux-x86_64-cpython-312/SPARCED_dwdp_colptrs.o build/temp.linux-x86_64-cpython-312/SPARCED_dwdp_rowvals.o build/temp.linux-x86_64-cpython-312/SPARCED_dwdw.o build/temp.linux-x86_64-cpython-312/SPARCED_dwdw_colptrs.o build/temp.linux-x86_64-cpython-312/SPARCED_dwdw_rowvals.o build/temp.linux-x86_64-cpython-312/SPARCED_dwdx.o build/temp.linux-x86_64-cpython-312/SPARCED_dwdx_colptrs.o build/temp.linux-x86_64-cpython-312/SPARCED_dwdx_rowvals.o build/temp.linux-x86_64-cpython-312/SPARCED_dxdotdp_explicit.o build/temp.linux-x86_64-cpython-312/SPARCED_dxdotdp_explicit_colptrs.o build/temp.linux-x86_64-cpython-312/SPARCED_dxdotdp_explicit_rowvals.o build/temp.linux-x86_64-cpython-312/SPARCED_dxdotdw.o build/temp.linux-x86_64-cpython-312/SPARCED_dxdotdw_colptrs.o build/temp.linux-x86_64-cpython-312/SPARCED_dxdotdw_rowvals.o build/temp.linux-x86_64-cpython-312/SPARCED_dxdotdx_explicit.o build/temp.linux-x86_64-cpython-312/SPARCED_dxdotdx_explicit_colptrs.o build/temp.linux-x86_64-cpython-312/SPARCED_dxdotdx_explicit_rowvals.o build/temp.linux-x86_64-cpython-312/SPARCED_dydp.o build/temp.linux-x86_64-cpython-312/SPARCED_dydx.o build/temp.linux-x86_64-cpython-312/SPARCED_root.o build/temp.linux-x86_64-cpython-312/SPARCED_sigmay.o build/temp.linux-x86_64-cpython-312/SPARCED_stau.o build/temp.linux-x86_64-cpython-312/SPARCED_sx0.o build/temp.linux-x86_64-cpython-312/SPARCED_sx0_fixedParameters.o build/temp.linux-x86_64-cpython-312/SPARCED_total_cl.o build/temp.linux-x86_64-cpython-312/SPARCED_w.o build/temp.linux-x86_64-cpython-312/SPARCED_x0.o build/temp.linux-x86_64-cpython-312/SPARCED_x0_fixedParameters.o build/temp.linux-x86_64-cpython-312/SPARCED_x_rdata.o build/temp.linux-x86_64-cpython-312/SPARCED_x_solver.o build/temp.linux-x86_64-cpython-312/SPARCED_xdot.o build/temp.linux-x86_64-cpython-312/SPARCED_y.o build/temp.linux-x86_64-cpython-312/swig/SPARCED_wrap.o build/temp.linux-x86_64-cpython-312/wrapfunctions.o -L/home/chocolatecharlie/anaconda3/envs/sparced/lib/python3.12/site-packages/amici/libs -lamici -lsundials -lsuitesparse -lcblas -o /home/chocolatecharlie/Documents/SPARCED/SPARCED/models/SPARCED-tutorial/amici_SPARCED/SPARCED/_SPARCED.cpython-312-x86_64-linux-gnu.so -fopenmp\n",
      "\n",
      "SPARCED: Sucess compiling the model\n"
     ]
    }
   ],
   "source": [
    "# Model name\n",
    "model_name = \"SPARCED\"\n",
    "# Path to input files written in TSV\n",
    "f_compartments = \"../../SPARCED/data/core/Compartments.txt\"\n",
    "f_observables = \"../../SPARCED/data/core/Observables.txt\"\n",
    "f_species = \"../../SPARCED/data/core/Species.txt\"\n",
    "f_stoichmatrix = \"../../SPARCED/data/core/StoicMat.txt\"\n",
    "f_ratelaws = \"../../SPARCED/data/core/Ratelaws.txt\"\n",
    "# Path to store output files (Antimony, SBML and AMICI model)\n",
    "output_dir_path = \"../../SPARCED/models/SPARCED-tutorial/\" # Make sure that this directory exists ahead\n",
    "f_output_parameters = \"../../SPARCED/models/SPARCED-tutorial/out_Parameters.txt\"\n",
    "# Runtime options\n",
    "verbose = True\n",
    "is_SPARCED = True\n",
    "# Call the model creation function\n",
    "create_model(f_observables, model_name, f_compartments, f_stoichmatrix, output_dir_path,\n",
    "             f_output_parameters, f_ratelaws, f_species, verbose, is_SPARCED)\n",
    "# NB: AMICI is very verbose, don't be afraid if it loads tons of lines.\n",
    "# It will take several minutes for the model to compile."
   ]
  },
  {
   "cell_type": "markdown",
   "id": "97e838d4-166e-4208-9645-8a5688709711",
   "metadata": {},
   "source": [
    "Although this might seem overwhelming, note that you may simply call the ```launch_model_creation``` function from your script or the command line, which will collect all the default values and arguments you pass, process these and call the ```create_model``` function for you.\n",
    "We are not using it here to demonstrate which arguments the ```create_model``` function needs. A call to ```launch_model_creation``` looks as simple as this:"
   ]
  },
  {
   "cell_type": "code",
   "execution_count": 4,
   "id": "5c73259b-8416-4474-8c83-cd37df2fface",
   "metadata": {},
   "outputs": [],
   "source": [
    "# WARNING: the Notebook doesn\"t handle well command-line arguments\n",
    "# See the __main__.py file for a working example\n",
    "# launch_model_creation()"
   ]
  },
  {
   "cell_type": "markdown",
   "id": "17425419-2219-414c-8915-9aa99c6acaae",
   "metadata": {},
   "source": [
    "## 2 - Run a model simulation"
   ]
  },
  {
   "cell_type": "markdown",
   "id": "a0c9d376-2735-4c2b-ae92-3ee99105302b",
   "metadata": {},
   "source": [
    "### Ligands"
   ]
  },
  {
   "cell_type": "markdown",
   "id": "37f97e9c-51af-4472-8b4f-059dff6a968f",
   "metadata": {},
   "source": [
    "You may want to add ligands to your experiment before running it (EGF and insulin are the most common).\n",
    "There are several ways to do so, the idea being to chose the method that fits you best."
   ]
  },
  {
   "cell_type": "code",
   "execution_count": 5,
   "id": "031f5e99-17ee-48f1-878e-a82d2bb15376",
   "metadata": {},
   "outputs": [],
   "source": [
    "# 1. Manually\n",
    "c_egf = 1.0\n",
    "c_ins = 17.21\n",
    "ligands = basic_ligands(c_egf, c_ins)\n",
    "# 2. Automatically from the passed arguments\n",
    "# See the __main__.py file for a working example\n",
    "# ligands = basic_ligands_from_arguments\n",
    "# 3. Automatically from the ligands.txt input file\n",
    "# ligands = load_input_ligands(\"../../SPARCED/data/simulation/ligands.txt\")"
   ]
  },
  {
   "cell_type": "markdown",
   "id": "b5a99ce2-d397-4f89-ac73-6c23d955fb54",
   "metadata": {},
   "source": [
    "### Run an experiment"
   ]
  },
  {
   "cell_type": "markdown",
   "id": "6f948ca5-1538-4535-9f61-7dd69b576ee2",
   "metadata": {},
   "source": [
    "The ```run_experiment``` function is a wrapper that will call the ```run_single_simulation``` function for each cell in your population."
   ]
  },
  {
   "cell_type": "markdown",
   "id": "a463b0f5-6b4a-4156-be35-757f52db0d1b",
   "metadata": {},
   "source": [
    "_Please note that in the example bellow, we redefined some variables previously set to give you an overview of what you need to call the ```run_experiment``` function. In practice, you wouldn't want to redefine variables in your script._"
   ]
  },
  {
   "cell_type": "code",
   "execution_count": 7,
   "id": "f59adc1a-c40b-4c75-958d-8fa32911d83e",
   "metadata": {},
   "outputs": [
    {
     "name": "stdout",
     "output_type": "stream",
     "text": [
      "SPARCED: Successfully loaded <module 'SPARCED' from '/home/chocolatecharlie/Documents/SPARCED/SPARCED/models/SPARCED-tutorial/amici_SPARCED/SPARCED/__init__.py'>\n",
      "\n",
      "tutorial n°0: Now ready to run\n",
      "\n",
      "tutorial n°0: Simulation is over. Now saving results,                 please do not exit.\n",
      "\n",
      "tutorial n°0: Simulation saved.\n",
      "\n"
     ]
    }
   ],
   "source": [
    "# Model and simulation names\n",
    "model_name = \"SPARCED\"\n",
    "simulation_name = \"tutorial\"\n",
    "# Path to input files\n",
    "f_species = \"../../SPARCED/data/core/Species.txt\"\n",
    "f_genereg = \"../../SPARCED/data/simulation/GeneReg.txt\"\n",
    "f_omics = \"../../SPARCED/data/simulation/OmicsData.txt\"\n",
    "model_path = \"../../SPARCED/models/SPARCED-tutorial/amici_SPARCED\"\n",
    "sbml_model = \"../../SPARCED/models/SPARCED-tutorial/sbml_SPARCED.xml\"\n",
    "# Runtime options\n",
    "is_deterministic = True # False implies stochastic simulation\n",
    "exchange = 30 # Don't change this unless you are familiar with systems biology & models\n",
    "population = 1 # Size of the cell population to simulation, one cell is enough here\n",
    "duration = 1 # Duration of the simulated experiment, here 1 hour\n",
    "verbose = True\n",
    "is_SPARCED = True\n",
    "# Additional arguments to run experiments involving drugs\n",
    "# This part is not covered in this tutorial\n",
    "compound = None\n",
    "dose = None\n",
    "# Call the run experimentfunction\n",
    "run_experiment(model_name, model_path, simulation_name, sbml_model, is_deterministic, exchange,\n",
    "               population, duration, f_species, ligands, f_genereg, f_omics, verbose, is_SPARCED, compound, dose)\n",
    "# It will take several minutes for the model to run."
   ]
  },
  {
   "cell_type": "markdown",
   "id": "d9b8abd6-7e8e-49ff-b9aa-0edf23d82a07",
   "metadata": {},
   "source": [
    "Although this might seem overwhelming, note that you may simply call the ```launch_experiment_simulation``` function from your script or the command line, which will collect all the default values and arguments you pass, process these and call the ```run_experiment``` function for you.\n",
    "We are not using it here to demonstrate which arguments the ```run_experiment``` function needs. A call to ```launch_experiment_simulation``` looks as simple as this:"
   ]
  },
  {
   "cell_type": "code",
   "execution_count": 8,
   "id": "a9e70250-bb28-4b37-9418-f88fd970c013",
   "metadata": {},
   "outputs": [],
   "source": [
    "# WARNING: the Notebook doesn\"t handle well command-line arguments\n",
    "# See the __main__.py file for a working example\n",
    "# launch_experiment_simulation(ligands)"
   ]
  },
  {
   "cell_type": "markdown",
   "id": "feaa92b7-ea76-4deb-b0af-17be86c38471",
   "metadata": {},
   "source": []
  }
 ],
 "metadata": {
  "kernelspec": {
   "display_name": "Python 3 (ipykernel)",
   "language": "python",
   "name": "python3"
  },
  "language_info": {
   "codemirror_mode": {
    "name": "ipython",
    "version": 3
   },
   "file_extension": ".py",
   "mimetype": "text/x-python",
   "name": "python",
   "nbconvert_exporter": "python",
   "pygments_lexer": "ipython3",
   "version": "3.12.2"
  }
 },
 "nbformat": 4,
 "nbformat_minor": 5
}
