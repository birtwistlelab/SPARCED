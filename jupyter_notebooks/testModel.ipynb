{
 "cells": [
  {
   "cell_type": "code",
   "execution_count": 2,
   "id": "430a2f4b",
   "metadata": {},
   "outputs": [],
   "source": [
    "import sys\n",
    "import os\n",
    "\n",
    "wd = os.path.dirname(os.getcwd())\n",
    "sys.path.append(os.path.join(wd,'bin'))\n",
    "\n",
    "import libsbml\n",
    "import importlib\n",
    "import amici\n",
    "import numpy as np\n",
    "import re\n",
    "import pandas as pd\n",
    "from antimony import *\n",
    "from modules.copyDir import copyDirectory\n",
    "\n",
    "# Optional packages to import\n",
    "import amici.plotting\n",
    "import matplotlib.pyplot as plt\n",
    "from time import time\n",
    "import matplotlib as mpl\n",
    "from modules.RunSPARCED import RunSPARCED\n",
    "\n",
    "mpl.rcParams['figure.dpi'] = 300\n",
    "\n"
   ]
  },
  {
   "cell_type": "code",
   "execution_count": 3,
   "id": "95db12de",
   "metadata": {},
   "outputs": [],
   "source": [
    "sbml_file = \"SPARCED.xml\"\n",
    "model_name= sbml_file[0:-4]\n",
    "model_output_dir = model_name\n",
    "sys.path.insert(0, os.path.join(wd,model_output_dir))\n",
    "model_module = importlib.import_module(model_name)\n",
    "model = model_module.getModel()\n",
    "\n",
    "species_all = list(model.getStateIds())\n",
    "\n",
    "\n",
    "Vn = 1.75E-12\n",
    "Vc = 5.25E-12\n",
    "\n",
    "solver = model.getSolver()          # Create solver instance\n",
    "solver.setMaxSteps = 1e10\n",
    "\n",
    "ts = 30\n",
    "\n",
    "model.setTimepoints(np.linspace(0,ts))"
   ]
  },
  {
   "cell_type": "code",
   "execution_count": 4,
   "id": "cc8fb2d8",
   "metadata": {},
   "outputs": [
    {
     "ename": "AttributeError",
     "evalue": "'NoneType' object has no attribute 'getCompartment'",
     "output_type": "error",
     "traceback": [
      "\u001b[1;31m---------------------------------------------------------------------------\u001b[0m",
      "\u001b[1;31mAttributeError\u001b[0m                            Traceback (most recent call last)",
      "\u001b[1;32m<ipython-input-4-6d313f01a0b7>\u001b[0m in \u001b[0;36m<module>\u001b[1;34m\u001b[0m\n\u001b[0;32m     17\u001b[0m \u001b[0mth\u001b[0m \u001b[1;33m=\u001b[0m \u001b[1;36m72\u001b[0m\u001b[1;33m\u001b[0m\u001b[1;33m\u001b[0m\u001b[0m\n\u001b[0;32m     18\u001b[0m \u001b[1;33m\u001b[0m\u001b[0m\n\u001b[1;32m---> 19\u001b[1;33m \u001b[0mxoutS_all\u001b[0m\u001b[1;33m,\u001b[0m \u001b[0mxoutG_all\u001b[0m\u001b[1;33m,\u001b[0m \u001b[0mtout_all\u001b[0m \u001b[1;33m=\u001b[0m \u001b[0mRunSPARCED\u001b[0m\u001b[1;33m(\u001b[0m\u001b[0mflagD\u001b[0m\u001b[1;33m,\u001b[0m\u001b[0mth\u001b[0m\u001b[1;33m,\u001b[0m\u001b[0mspIn2\u001b[0m\u001b[1;33m,\u001b[0m\u001b[1;33m[\u001b[0m\u001b[1;33m]\u001b[0m\u001b[1;33m,\u001b[0m\u001b[0msbml_file\u001b[0m\u001b[1;33m,\u001b[0m\u001b[0mmodel\u001b[0m\u001b[1;33m)\u001b[0m\u001b[1;33m\u001b[0m\u001b[1;33m\u001b[0m\u001b[0m\n\u001b[0m",
      "\u001b[1;32mD:\\projects\\sparced_oup\\SPARCED\\bin\\modules\\RunSPARCED.py\u001b[0m in \u001b[0;36mRunSPARCED\u001b[1;34m(flagD, th, spdata, genedata, sbml_file, model)\u001b[0m\n\u001b[0;32m     17\u001b[0m     \u001b[0msbml_doc\u001b[0m \u001b[1;33m=\u001b[0m \u001b[0msbml_reader\u001b[0m\u001b[1;33m.\u001b[0m\u001b[0mreadSBML\u001b[0m\u001b[1;33m(\u001b[0m\u001b[0msbml_file\u001b[0m\u001b[1;33m)\u001b[0m\u001b[1;33m\u001b[0m\u001b[1;33m\u001b[0m\u001b[0m\n\u001b[0;32m     18\u001b[0m     \u001b[0msbml_model\u001b[0m \u001b[1;33m=\u001b[0m \u001b[0msbml_doc\u001b[0m\u001b[1;33m.\u001b[0m\u001b[0mgetModel\u001b[0m\u001b[1;33m(\u001b[0m\u001b[1;33m)\u001b[0m\u001b[1;33m\u001b[0m\u001b[1;33m\u001b[0m\u001b[0m\n\u001b[1;32m---> 19\u001b[1;33m     \u001b[0mVc\u001b[0m \u001b[1;33m=\u001b[0m \u001b[0msbml_model\u001b[0m\u001b[1;33m.\u001b[0m\u001b[0mgetCompartment\u001b[0m\u001b[1;33m(\u001b[0m\u001b[1;36m0\u001b[0m\u001b[1;33m)\u001b[0m\u001b[1;33m.\u001b[0m\u001b[0mgetVolume\u001b[0m\u001b[1;33m(\u001b[0m\u001b[1;33m)\u001b[0m \u001b[1;31m# Should be the index for Cytoplasm\u001b[0m\u001b[1;33m\u001b[0m\u001b[1;33m\u001b[0m\u001b[0m\n\u001b[0m\u001b[0;32m     20\u001b[0m     \u001b[0mVn\u001b[0m \u001b[1;33m=\u001b[0m \u001b[0msbml_model\u001b[0m\u001b[1;33m.\u001b[0m\u001b[0mgetCompartment\u001b[0m\u001b[1;33m(\u001b[0m\u001b[1;36m2\u001b[0m\u001b[1;33m)\u001b[0m\u001b[1;33m.\u001b[0m\u001b[0mgetVolume\u001b[0m\u001b[1;33m(\u001b[0m\u001b[1;33m)\u001b[0m \u001b[1;31m# Should be the index for Nuclues\u001b[0m\u001b[1;33m\u001b[0m\u001b[1;33m\u001b[0m\u001b[0m\n\u001b[0;32m     21\u001b[0m     \u001b[0mmpc2nM_Vc\u001b[0m \u001b[1;33m=\u001b[0m \u001b[1;33m(\u001b[0m\u001b[1;36m1E9\u001b[0m\u001b[1;33m/\u001b[0m\u001b[1;33m(\u001b[0m\u001b[0mVc\u001b[0m\u001b[1;33m*\u001b[0m\u001b[1;36m6.023E+23\u001b[0m\u001b[1;33m)\u001b[0m\u001b[1;33m)\u001b[0m\u001b[1;33m\u001b[0m\u001b[1;33m\u001b[0m\u001b[0m\n",
      "\u001b[1;31mAttributeError\u001b[0m: 'NoneType' object has no attribute 'getCompartment'"
     ]
    }
   ],
   "source": [
    "STIMligs = [1000.0,100.0,100.0,100.0,100.0,100.0,1721.0] # EGF, Her, HGF, PDGF, FGF, IGF, INS\n",
    "\n",
    "STIMligs_id = ['E', 'H', 'HGF', 'P', 'F', 'I', 'INS']\n",
    "\n",
    "\n",
    "\n",
    "spIn2 = np.array(model.getInitialStates())\n",
    "\n",
    "for s,sp in enumerate(STIMligs_id):\n",
    "    spIn2[species_all.index(sp)] = STIMligs[s]\n",
    "\n",
    "\n",
    "model.setInitialStates(spIn2)\n",
    "\n",
    "flagD = 1\n",
    "\n",
    "th = 72\n",
    "\n",
    "xoutS_all, xoutG_all, tout_all = RunSPARCED(flagD,th,spIn2,[],sbml_file,model)"
   ]
  },
  {
   "cell_type": "code",
   "execution_count": null,
   "id": "e2699320",
   "metadata": {},
   "outputs": [],
   "source": []
  }
 ],
 "metadata": {
  "kernelspec": {
   "display_name": "Python 3",
   "language": "python",
   "name": "python3"
  },
  "language_info": {
   "codemirror_mode": {
    "name": "ipython",
    "version": 3
   },
   "file_extension": ".py",
   "mimetype": "text/x-python",
   "name": "python",
   "nbconvert_exporter": "python",
   "pygments_lexer": "ipython3",
   "version": "3.9.6"
  }
 },
 "nbformat": 4,
 "nbformat_minor": 5
}
