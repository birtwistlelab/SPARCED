{
 "cells": [
  {
   "cell_type": "code",
   "execution_count": 1,
   "id": "430a2f4b",
   "metadata": {},
   "outputs": [],
   "source": [
    "import sys\n",
    "import os\n",
    "\n",
    "cd = os.getcwd()\n",
    "wd = os.path.dirname(cd)\n",
    "sys.path.append(os.path.join(wd,'bin'))\n",
    "\n",
    "import libsbml\n",
    "import importlib\n",
    "import amici\n",
    "import numpy as np\n",
    "import re\n",
    "import pandas as pd\n",
    "from antimony import *\n",
    "from modules.copyDir import copyDirectory\n",
    "\n",
    "# Optional packages to import\n",
    "import amici.plotting\n",
    "import matplotlib.pyplot as plt\n",
    "from time import time\n",
    "import matplotlib as mpl\n",
    "from modules.RunSPARCED2 import RunSPARCED\n",
    "\n",
    "mpl.rcParams['figure.dpi'] = 120\n",
    "\n"
   ]
  },
  {
   "cell_type": "code",
   "execution_count": 2,
   "id": "95db12de",
   "metadata": {},
   "outputs": [],
   "source": [
    "sbml_file = \"SPARCED.xml\"\n",
    "model_name= sbml_file[0:-4]\n",
    "model_output_dir = model_name\n",
    "sys.path.insert(0, os.path.join(cd,model_output_dir))\n",
    "model_module = importlib.import_module(model_name)\n",
    "model = model_module.getModel()\n",
    "\n",
    "species_all = list(model.getStateIds())\n",
    "\n",
    "\n",
    "Vn = 1.75E-12\n",
    "Vc = 5.25E-12\n",
    "\n",
    "solver = model.getSolver()          # Create solver instance\n",
    "solver.setMaxSteps = 1e10\n",
    "\n",
    "ts = 30\n",
    "\n",
    "model.setTimepoints(np.linspace(0,ts))"
   ]
  },
  {
   "cell_type": "code",
   "execution_count": 3,
   "id": "cc8fb2d8",
   "metadata": {},
   "outputs": [],
   "source": [
    "STIMligs = [1.0,0.0,0.005,0.0,0.0,0.0,0.0] # EGF, Her, HGF, PDGF, FGF, IGF, INS\n",
    "\n",
    "STIMligs_id = ['E', 'H', 'HGF', 'P', 'F', 'I', 'INS']\n",
    "\n",
    "\n",
    "\n",
    "spIn2 = np.array(model.getInitialStates())\n",
    "\n",
    "for s,sp in enumerate(STIMligs_id):\n",
    "    spIn2[species_all.index(sp)] = STIMligs[s]\n",
    "\n",
    "\n",
    "model.setInitialStates(spIn2)\n",
    "\n",
    "flagD = 1\n",
    "\n",
    "th = 72\n",
    "\n",
    "xoutS_all, xoutG_all, tout_all = RunSPARCED(flagD,th,spIn2,[],sbml_file,model)"
   ]
  },
  {
   "cell_type": "code",
   "execution_count": null,
   "id": "6ca82ca0",
   "metadata": {},
   "outputs": [],
   "source": [
    "#benchmark - one4all\n",
    "fnameInput2 = 'SPARCEDo4a_v1' # model file name = USER input\n",
    "sbml_file2 = fnameInput2+'.xml'\n",
    "model_name2 = sbml_file2[0:-4] \n",
    "model_output_dir2 = model_name2 \n",
    "sys.path.insert(0, os.path.join(cd,model_output_dir2))\n",
    "model_module2 = importlib.import_module(model_name2)\n",
    "model2 = model_module2.getModel()\n",
    "\n",
    "solver2 = model2.getSolver()\n",
    "solver2.setMaxSteps = 1e10\n",
    "\n",
    "th2 = 72*3600\n",
    "model2.setTimepoints(np.linspace(0,th2,1000))\n",
    "\n",
    "species_all2 = list(model2.getStateIds())\n",
    "\n",
    "\n",
    "spIn_o4a = np.array(model_module2.getModel().getInitialStates())\n",
    "\n",
    "for s,sp in enumerate(STIMligs_id):\n",
    "    spIn_o4a[species_all2.index(sp)] = STIMligs[s]\n",
    "\n",
    "\n",
    "model2.setInitialStates(spIn_o4a)\n",
    "\n",
    "sbml_reader = libsbml.SBMLReader()\n",
    "sbml_doc2 = sbml_reader.readSBML(sbml_file2)\n",
    "sbml_model2 = sbml_doc2.getModel()\n"
   ]
  },
  {
   "cell_type": "code",
   "execution_count": null,
   "id": "80322886",
   "metadata": {},
   "outputs": [],
   "source": [
    "rdata_o4a = amici.runAmiciSimulation(model2,solver2)\n",
    "    \n",
    "\n",
    "\n",
    "xoutS_all5 = rdata_o4a['x']\n",
    "tout_all5 = rdata_o4a['t']"
   ]
  },
  {
   "cell_type": "code",
   "execution_count": null,
   "id": "345104f8",
   "metadata": {},
   "outputs": [],
   "source": [
    "\n",
    "\n",
    "def timecourse_compare2(xs1,xsl1,xs2,t2,xsl2,sp,ts=30,xlim=None,y0=None,ylim=None,me=10):\n",
    "    t1 = np.array(range(0,len(xs1)))*30\n",
    "    xt1 = xs1[:,species_all.index(sp)]\n",
    "    xt2 = xs2[:,species_all2.index(sp)]\n",
    "    # tout = np.array(range(len(xt1)))*ts/3600\n",
    "    \n",
    "    plt.plot(t1/3600,xt1,label=xsl1)\n",
    "    plt.plot(t2/3600,xt2,label=xsl2,ls='None',marker=\"x\",markevery=int(me),color='r')\n",
    "    plt.ylim(0,max(max(xt1),max(xt2))*1.25)\n",
    "    if type(ylim)==int or type(ylim)==float:\n",
    "        plt.ylim(0,ylim)\n",
    "        if type(y0)==int or type(y0)==float:\n",
    "            plt.ylim(y0,ylim)\n",
    "    if type(xlim)==int or type(xlim)==float:\n",
    "        plt.xlim(0,xlim)\n",
    "    plt.xlabel('Time (hours)')\n",
    "    plt.ylabel(sp+' (nM)')\n",
    "    plt.title('species timecourse')\n",
    "    plt.legend()\n",
    "    plt.show()\n"
   ]
  },
  {
   "cell_type": "code",
   "execution_count": null,
   "id": "df8006cb",
   "metadata": {},
   "outputs": [],
   "source": [
    "#mpl.rcParams['figure.dpi'] = 120\n",
    "\n",
    "\n",
    "timecourse_compare2(xoutS_all,'Hybrid',xoutS_all5,tout_all5,'Integrated-SBML','Md',me=20)"
   ]
  },
  {
   "cell_type": "code",
   "execution_count": null,
   "id": "527c0631",
   "metadata": {},
   "outputs": [],
   "source": [
    "#%% Species AUC check\n",
    "\n",
    "auc_sparced = np.zeros(len(species_all))\n",
    "auc_one4all = np.zeros(len(species_all))\n",
    "\n",
    "for i,sp in enumerate(species_all):\n",
    "    \n",
    "    auc_sparced[i] = np.trapz(xoutS_all[:,species_all.index(sp)],tout_all)\n",
    "    auc_one4all[i] = np.trapz(xoutS_all5[:,species_all2.index(sp)],tout_all5)\n",
    "    \n",
    "\n",
    "plt.scatter(auc_sparced,auc_one4all,marker=\".\")\n",
    "plt.xscale('log')\n",
    "plt.yscale('log')\n",
    "plt.xlim(1e-8,1e8)\n",
    "plt.ylim(1e-8,1e8)\n",
    "xpoints = ypoints = plt.xlim()\n",
    "plt.plot(xpoints, ypoints,linestyle='--', color='k', lw=0.75, scalex=False, scaley=False)\n",
    "plt.show()"
   ]
  },
  {
   "cell_type": "code",
   "execution_count": null,
   "id": "52c9ef28",
   "metadata": {},
   "outputs": [],
   "source": [
    "auc_sparced"
   ]
  },
  {
   "cell_type": "code",
   "execution_count": null,
   "id": "af9765aa",
   "metadata": {},
   "outputs": [],
   "source": [
    "np.isnan(xoutS_all5[:,species_all2.index('ppERK')])"
   ]
  },
  {
   "cell_type": "code",
   "execution_count": null,
   "id": "9e797f91",
   "metadata": {},
   "outputs": [],
   "source": [
    "def timecourse(xoutS,sp,species_all):\n",
    "    x_t = xoutS[:,species_all.index(sp)]\n",
    "    tout = np.array(range(0,len(x_t)))*30/3600\n",
    "    \n",
    "    plt.plot(tout,x_t)\n",
    "    plt.ylim(0,max(x_t)*1.25)\n",
    "    plt.xlabel('Time (hours)')\n",
    "    plt.ylabel(str(sp))\n",
    "    plt.show()\n",
    "\n",
    "\n",
    "\n",
    "\n",
    "def timecourse_x(rdata,sp,species_all):\n",
    "    x_t = rdata['x'][:,species_all.index(sp)]\n",
    "    tout = rdata['t']/3600\n",
    "    \n",
    "    plt.plot(tout,x_t)\n",
    "    plt.ylim(0,max(x_t)*1.25)\n",
    "    plt.xlabel('Time (hours)')\n",
    "    plt.ylabel(str(sp))\n",
    "    plt.show()"
   ]
  },
  {
   "cell_type": "code",
   "execution_count": null,
   "id": "bd3a4b4a",
   "metadata": {},
   "outputs": [],
   "source": [
    "timecourse(xoutS_all,'cPARP',species_all)"
   ]
  },
  {
   "cell_type": "code",
   "execution_count": null,
   "id": "f989c70e",
   "metadata": {},
   "outputs": [],
   "source": [
    "timecourse_x(rdata_o4a,'cPARP',species_all2)"
   ]
  },
  {
   "cell_type": "code",
   "execution_count": null,
   "id": "a266bcea",
   "metadata": {},
   "outputs": [],
   "source": [
    "model2.getFixedParameterById('k2730_5')"
   ]
  },
  {
   "cell_type": "code",
   "execution_count": null,
   "id": "7ae48494",
   "metadata": {},
   "outputs": [],
   "source": [
    "model_module.getModel().getInitialStates()[species_all.index('pRB')]\n"
   ]
  },
  {
   "cell_type": "code",
   "execution_count": null,
   "id": "3a895707",
   "metadata": {},
   "outputs": [],
   "source": [
    "model_module2.getModel().getInitialStates()[species_all.index('pRB')]"
   ]
  },
  {
   "cell_type": "code",
   "execution_count": null,
   "id": "35d12e42",
   "metadata": {},
   "outputs": [],
   "source": []
  }
 ],
 "metadata": {
  "kernelspec": {
   "display_name": "Python 3",
   "language": "python",
   "name": "python3"
  },
  "language_info": {
   "codemirror_mode": {
    "name": "ipython",
    "version": 3
   },
   "file_extension": ".py",
   "mimetype": "text/x-python",
   "name": "python",
   "nbconvert_exporter": "python",
   "pygments_lexer": "ipython3",
   "version": "3.8.0"
  }
 },
 "nbformat": 4,
 "nbformat_minor": 5
}
